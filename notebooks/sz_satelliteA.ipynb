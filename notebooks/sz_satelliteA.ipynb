{
 "metadata": {
  "name": "",
  "signature": "sha256:ca15632d256acaf0db859c83b51edd1e28a144ccf40db9ed3be138d6a2372214"
 },
 "nbformat": 3,
 "nbformat_minor": 0,
 "worksheets": [
  {
   "cells": [
    {
     "cell_type": "markdown",
     "metadata": {},
     "source": [
      "##Satellite exercise for Wed. Jan. 14"
     ]
    },
    {
     "cell_type": "markdown",
     "metadata": {},
     "source": [
      "Objectives:  Download, read and plot a month of level 3 ocean color data (Chorlophyl A) and get started with the binned version of the same dataset"
     ]
    },
    {
     "cell_type": "markdown",
     "metadata": {},
     "source": [
      "Getting started:\n",
      "\n",
      "Open a bash shell (OSX terminal) and\n",
      "\n",
      "``` bash\n",
      "> cd xxx (where xxx is the notebooks directory of your forked and cloned repository\n",
      "> git branch  (to see which branch you're on)\n",
      "> git status (to see whether any files have been editied (hopefully never on master)\n",
      "> git pull  (to bring in my new code for today)\n",
      "> git checkout -b working (to start a new working branch)\n",
      "> git push origin working (to backup new branch to github)\n",
      "> cd notebooks  \n",
      "> ipython notebook satelliteA.ipynb  (to get started on your copy)\n",
      "```"
     ]
    },
    {
     "cell_type": "code",
     "collapsed": false,
     "input": [
      "import glob  #this module gets file names using wildcards\n",
      "#\n",
      "# the h5dump.py file is one folder up in the utilities folder\n",
      "# use site.addsitedir to add this folder to the list of folders\n",
      "# python searches for imports\n",
      "#\n",
      "import site\n",
      "site.addsitedir('../utilities')\n",
      "from h5dump import dumph5\n",
      "import h5py\n",
      "import matplotlib.pyplot as plt\n",
      "import numpy as np"
     ],
     "language": "python",
     "metadata": {},
     "outputs": [],
     "prompt_number": ""
    },
    {
     "cell_type": "code",
     "collapsed": false,
     "input": [
      "%matplotlib inline"
     ],
     "language": "python",
     "metadata": {},
     "outputs": [],
     "prompt_number": ""
    },
    {
     "cell_type": "markdown",
     "metadata": {},
     "source": [
      "1.  Look at the product definitions for level 2 and level 3 data at http://oceancolor.gsfc.nasa.gov/cms/products\n",
      "2.  Find a month of level 3 chlorophyll concentration data for the Modis instrument from http://oceancolor.gsfc.nasa.gov/cgi/l3\n",
      "3.  Download the bz2 zipped files for the Standard Mapped Image and binned data to a folder called dataset\n",
      "4.  unzip the two files with bunzip2\n",
      "5.  Convert hdf4 to hdf5 with http://www.hdfgroup.org/h4toh5/download.html or http://hdfeos.org/software/h4toh5/bin/mac/"
     ]
    },
    {
     "cell_type": "markdown",
     "metadata": {},
     "source": [
      "The following module, h5dump.py in the utilities directory, uses the [visititems](http://docs.h5py.org/en/latest/quick.html) of the h5py module to walk the hdf5 file and print all variables and attributes"
     ]
    },
    {
     "cell_type": "markdown",
     "metadata": {},
     "source": [
      "```python\n",
      "#!/usr/bin/env python\n",
      "from __future__ import print_function\n",
      "import h5py\n",
      "import argparse\n",
      "import types\n",
      "\n",
      "def print_attrs(name, obj):\n",
      "    print(\"item name: \",name,repr(obj))\n",
      "    for key, val in obj.attrs.iteritems():\n",
      "        print(\"    %s: %s\" % (key, val))\n",
      "\n",
      "def dumph5(filename):\n",
      "    #\n",
      "    # make sure that have a filename, not an open file\n",
      "    #\n",
      "    if isinstance(filename,h5py._hl.files.File):\n",
      "        raise Exception('need simple filename')\n",
      "    with  h5py.File(filename,'r') as infile:\n",
      "        infile.visititems(print_attrs)\n",
      "        print('-------------------')\n",
      "        print(\"attributes for the root file\")\n",
      "        print('-------------------')\n",
      "        for key,value in infile.attrs.items():\n",
      "            print(\"attribute name: \",key,\"--- value: \",value)\n",
      "    return None\n",
      "        \n",
      "if __name__ == \"__main__\":\n",
      "    #\n",
      "    # if we are tunning as main program pass filename as argument\n",
      "    #\n",
      "    parser = argparse.ArgumentParser()\n",
      "    parser.add_argument('h5_file',type=str,help='name of h5 file')\n",
      "    args=parser.parse_args()\n",
      "    filename=args.h5_file\n",
      "    dumph5(filename)\n",
      "\n",
      "```"
     ]
    },
    {
     "cell_type": "markdown",
     "metadata": {},
     "source": [
      "Take a look at the Level3 mapped dataset specification:  http://oceancolor.gsfc.nasa.gov/DOCS/Ocean_Level-3_SMI_Products.pdf\n",
      "Compare that specification with the data dump given by dumph5:  (a reference page on the data type notation for h5py: https://www.safaribooksonline.com/library/view/python-and-hdf5/9781491944981/ch07.html and for numpy:http://docs.scipy.org/doc/numpy/reference/arrays.dtypes.html)."
     ]
    },
    {
     "cell_type": "code",
     "collapsed": false,
     "input": [
      "mapped_file=glob.glob('../dataset/A2010*_L3m_MO_CHL_chlor_a_9km.h5')[0]\n",
      "dumph5(mapped_file)"
     ],
     "language": "python",
     "metadata": {},
     "outputs": [],
     "prompt_number": ""
    },
    {
     "cell_type": "code",
     "collapsed": false,
     "input": [
      "with  h5py.File(mapped_file,'r') as infile:\n",
      "    data=infile['l3m_data']\n",
      "    print list(data.attrs)\n",
      "    print(data)\n",
      "    for key,value in data.attrs.items():\n",
      "        print key,value"
     ],
     "language": "python",
     "metadata": {},
     "outputs": [],
     "prompt_number": ""
    },
    {
     "cell_type": "code",
     "collapsed": false,
     "input": [
      "with  h5py.File(mapped_file,'r') as infile:\n",
      "    data=infile['l3m_data']\n",
      "    #\n",
      "    # use a dictionary comprehension to get the attributes for\n",
      "    # the chlorophyll data\n",
      "    #\n",
      "    capture={key:value for key,value in data.attrs.items()}\n",
      "    capture['parameter']=infile.attrs['Parameter_GLOSDS']\n",
      "    capture['units']=infile.attrs['Units_GLOSDS']\n",
      "    data=data[...]\n",
      "    print(type(data))\n",
      "    print(capture)    "
     ],
     "language": "python",
     "metadata": {},
     "outputs": [],
     "prompt_number": ""
    },
    {
     "cell_type": "code",
     "collapsed": false,
     "input": [
      "fig=plt.figure()\n",
      "ax1=fig.add_subplot(111)\n",
      "ax1.imshow(data)"
     ],
     "language": "python",
     "metadata": {},
     "outputs": [],
     "prompt_number": ""
    },
    {
     "cell_type": "code",
     "collapsed": false,
     "input": [
      "fig=plt.figure()\n",
      "ax1=fig.add_subplot(111)\n",
      "out=ax1.hist(data.flat)"
     ],
     "language": "python",
     "metadata": {},
     "outputs": [],
     "prompt_number": ""
    },
    {
     "cell_type": "code",
     "collapsed": false,
     "input": [
      "# histogram shows lots of missing values\n",
      "# replace all data less than or equal to the fill value\n",
      "# with nan\n",
      "#\n",
      "hit=data <= capture['Fill']\n",
      "data[hit]=np.nan"
     ],
     "language": "python",
     "metadata": {},
     "outputs": [],
     "prompt_number": ""
    },
    {
     "cell_type": "code",
     "collapsed": false,
     "input": [
      "fig=plt.figure()\n",
      "ax1=fig.add_subplot(111)\n",
      "ax1.imshow(data)"
     ],
     "language": "python",
     "metadata": {},
     "outputs": [],
     "prompt_number": ""
    },
    {
     "cell_type": "code",
     "collapsed": false,
     "input": [
      "fig=plt.figure()\n",
      "ax1=fig.add_subplot(111)\n",
      "hit=np.logical_and(data > 0,data < 1)\n",
      "out=ax1.hist(data[hit].flat)"
     ],
     "language": "python",
     "metadata": {},
     "outputs": [],
     "prompt_number": ""
    },
    {
     "cell_type": "code",
     "collapsed": false,
     "input": [
      "fig=plt.figure(figsize=[12,12])\n",
      "ax1=fig.add_subplot(111)\n",
      "vals=ax1.imshow(np.log10(data))\n",
      "fig.colorbar(vals)"
     ],
     "language": "python",
     "metadata": {},
     "outputs": [],
     "prompt_number": ""
    },
    {
     "cell_type": "code",
     "collapsed": false,
     "input": [
      "data.shape"
     ],
     "language": "python",
     "metadata": {},
     "outputs": [],
     "prompt_number": ""
    },
    {
     "cell_type": "code",
     "collapsed": false,
     "input": [
      "numlats,numlons=data.shape\n",
      "lats=np.linspace(90,-90,numlats)\n",
      "lons=np.linspace(-180,180,numlons)"
     ],
     "language": "python",
     "metadata": {},
     "outputs": [],
     "prompt_number": ""
    },
    {
     "cell_type": "code",
     "collapsed": false,
     "input": [
      "grid_lons,grid_lats=np.meshgrid(lons,lats)\n",
      "small_lons=grid_lons[250:750,250:750]\n",
      "small_lats=grid_lats[250:750,250:750]\n",
      "small_data=data[250:750,250:750]\n",
      "print(np.sum(np.isnan(small_data.flat)))\n",
      "masked_data=np.ma.masked_where(np.isnan(small_data),small_data)"
     ],
     "language": "python",
     "metadata": {},
     "outputs": [],
     "prompt_number": ""
    },
    {
     "cell_type": "code",
     "collapsed": false,
     "input": [
      "from mpl_toolkits.basemap import Basemap\n",
      "lcc_values=dict(resolution='l',projection='lcc',\n",
      "                lat_1=30,lat_2=50,lat_0=45,lon_0=-135,\n",
      "                llcrnrlon=-150,llcrnrlat=30,\n",
      "                urcrnrlon=-120,urcrnrlat=50)\n",
      "proj=Basemap(**lcc_values)\n",
      "# create figure, add axes\n",
      "fig=plt.figure(figsize=(12, 12))\n",
      "ax=fig.add_subplot(111)\n",
      "## define parallels and meridians to draw.\n",
      "parallels=np.arange(-90, 90, 5)\n",
      "meridians=np.arange(0, 360, 5)\n",
      "proj.drawparallels(parallels, labels=[1, 0, 0, 0],\\\n",
      "                  fontsize=10, latmax=90)\n",
      "proj.drawmeridians(meridians, labels=[0, 0, 0, 1],\\\n",
      "                  fontsize=10, latmax=90)\n",
      "# draw coast & fill continents\n",
      "#map.fillcontinents(color=[0.25, 0.25, 0.25], lake_color=None) # coral\n",
      "out=proj.drawcoastlines(linewidth=1.5, linestyle='solid', color='k')\n",
      "x, y=proj(small_lons,small_lats)\n",
      "print(x.shape,y.shape,data.shape)\n",
      "CS=proj.pcolor(x, y, np.log10(masked_data), cmap=plt.cm.hot)\n",
      "#\n",
      "# now add the radar ground track to the image\n",
      "#\n",
      "CBar=proj.colorbar(CS, 'right', size='5%', pad='5%')\n",
      "CBar.set_label('log10 (mg/m^3) of the chlorophyll a concentration (')\n",
      "title=ax.set_title('Chlorophyll-a concentration')\n",
      "fig.canvas.draw()"
     ],
     "language": "python",
     "metadata": {},
     "outputs": [],
     "prompt_number": ""
    },
    {
     "cell_type": "markdown",
     "metadata": {},
     "source": [
      "##Binned data"
     ]
    },
    {
     "cell_type": "markdown",
     "metadata": {},
     "source": [
      "1. Take a look at http://oceancolor.gsfc.nasa.gov/cms/L3Bins.html which describes the binning scheme\n",
      "2. Here is a description of the hdf file layout: http://oceancolor.gsfc.nasa.gov/DOCS/Ocean_Level-3_Binned_Data_Products.pdf"
     ]
    },
    {
     "cell_type": "code",
     "collapsed": false,
     "input": [
      "binned_file=glob.glob('../dataset/A20101522010181.L3b_MO_CHL.h5')[0]\n",
      "dumph5(binned_file)"
     ],
     "language": "python",
     "metadata": {},
     "outputs": [],
     "prompt_number": ""
    },
    {
     "cell_type": "code",
     "collapsed": false,
     "input": [
      "with  h5py.File(binned_file,'r') as infile:\n",
      "    root_key=infile.keys()[0]\n",
      "    print(root_key)\n",
      "    print(infile[root_key].keys())\n",
      "    print(infile[root_key]['chlor_a'])\n",
      "    the_data=infile[root_key]['chlor_a']\n",
      "    out=the_data[...]"
     ],
     "language": "python",
     "metadata": {},
     "outputs": [],
     "prompt_number": ""
    },
    {
     "cell_type": "markdown",
     "metadata": {},
     "source": [
      "Note that the chlorphyll data is stored as an 8 byte opaque type (V8).  On OSX, anaconda installs an hdf5 program call 'h5ls' which we can use to see more detail about this type.  On Windows, you'll need to install the utility separately\n",
      "http://www.hdfgroup.org/HDF5/release/obtain5.html"
     ]
    },
    {
     "cell_type": "markdown",
     "metadata": {},
     "source": [
      "``` bash\n",
      "phil@rail% h5ls -v -r A20101522010181.L3b_MO_CHL.h5\n",
      "\n",
      "/Level-3\\ Binned\\ Data/chlor_a Dataset {11384896/Inf}\n",
      "    Attribute: CLASS scalar\n",
      "        Type:      5-byte space-padded ASCII string\n",
      "        Data:  \"TABLE\"\n",
      "    Attribute: FIELD_0_NAME scalar\n",
      "        Type:      11-byte space-padded ASCII string\n",
      "        Data:  \"chlor_a_sum\"\n",
      "    Attribute: FIELD_1_NAME scalar\n",
      "        Type:      14-byte space-padded ASCII string\n",
      "        Data:  \"chlor_a_sum_sq\"\n",
      "    Attribute: HDF4_OBJECT_NAME scalar\n",
      "        Type:      7-byte space-padded ASCII string\n",
      "        Data:  \"chlor_a\"\n",
      "    Attribute: HDF4_OBJECT_TYPE scalar\n",
      "        Type:      5-byte space-padded ASCII string\n",
      "        Data:  \"Vdata\"\n",
      "    Attribute: HDF4_REF_NUM scalar\n",
      "        Type:      16-bit big-endian unsigned integer\n",
      "        Data:  5\n",
      "    Attribute: TITLE scalar\n",
      "        Type:      7-byte space-padded ASCII string\n",
      "        Data:  \"chlor_a\"\n",
      "    Attribute: VERSION scalar\n",
      "        Type:      3-byte space-padded ASCII string\n",
      "        Data:  \"1.0\"\n",
      "    Location:  1:216324552\n",
      "    Links:     1\n",
      "    Chunks:    {11384896} 91079168 bytes\n",
      "    Storage:   91079168 logical bytes, 91079168 allocated bytes, 100.00% utilization\n",
      "    Type:      shared-1:216324384 struct {\n",
      "                   \"chlor_a_sum\"      +0    IEEE 32-bit big-endian float\n",
      "                   \"chlor_a_sum_sq\"   +4    IEEE 32-bit big-endian float\n",
      "               } 8 bytes\n",
      "/Level-3\\ Binned\\ Data/chlor_a_t Type\n",
      "    Location:  1:216324384\n",
      "    Links:     2\n",
      "    Type:      shared-1:216324384 struct {\n",
      "                   \"chlor_a_sum\"      +0    IEEE 32-bit big-endian float\n",
      "                   \"chlor_a_sum_sq\"   +4    IEEE 32-bit big-endian float\n",
      "               } 8 bytes\n",
      "```"
     ]
    },
    {
     "cell_type": "markdown",
     "metadata": {},
     "source": [
      "h5py reads this 8 byte vector in as a vector of two 4 byte tuples.  The first is the total chorophyll and the second is the squared sum.  To get the mean and variance for the binned chlorophyll we need to write a function as described in\n",
      "Section 4 of http://oceancolor.gsfc.nasa.gov/DOCS/Ocean_Level-3_Binned_Data_Products.pdf"
     ]
    },
    {
     "cell_type": "code",
     "collapsed": false,
     "input": [
      "out[:10]"
     ],
     "language": "python",
     "metadata": {},
     "outputs": [],
     "prompt_number": ""
    },
    {
     "cell_type": "markdown",
     "metadata": {},
     "source": [
      "##Exercise"
     ]
    },
    {
     "cell_type": "markdown",
     "metadata": {},
     "source": [
      "Write a function that calculates the mean chloryphyll concentration from level3 monthly binned file by extracting the weights from the binlist array and dividing each chlor_a_sum value by its weight.   Print out the first 50 non-zero chlorophyll concentrations in your file."
     ]
    },
    {
     "cell_type": "code",
     "collapsed": false,
     "input": [],
     "language": "python",
     "metadata": {},
     "outputs": [],
     "prompt_number": ""
    }
   ],
   "metadata": {}
  }
 ]
}