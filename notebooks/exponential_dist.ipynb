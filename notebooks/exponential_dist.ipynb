{
 "cells": [
  {
   "cell_type": "markdown",
   "metadata": {},
   "source": [
    "## Generating exponentially distributed random numbers"
   ]
  },
  {
   "cell_type": "markdown",
   "metadata": {},
   "source": [
    "Show that [Bohren eq. 6.55 page 303](http://clouds.eos.ubc.ca/~phil/papers/e582/bohren_excerpts1.pdf):\n",
    "\n",
    "$\\tau = -(1/\\beta) \\ln(1-\\xi)$ where $\\xi$ is a uniformly distributed random number produces a new random variable $\\tau$ with\n",
    "a probability distribution of the form:\n",
    "\n",
    "$p(\\tau) = \\beta exp(-\\beta x)$"
   ]
  },
  {
   "cell_type": "code",
   "execution_count": null,
   "metadata": {
    "collapsed": false
   },
   "outputs": [],
   "source": [
    "from numpy.random.mtrand import RandomState as randomstate\n",
    "import numpy as np\n",
    "from matplotlib import pyplot as plt"
   ]
  },
  {
   "cell_type": "code",
   "execution_count": null,
   "metadata": {
    "collapsed": false
   },
   "outputs": [],
   "source": [
    "%matplotlib inline"
   ]
  },
  {
   "cell_type": "markdown",
   "metadata": {},
   "source": [
    "Start with a uniform distribution"
   ]
  },
  {
   "cell_type": "code",
   "execution_count": null,
   "metadata": {
    "collapsed": false
   },
   "outputs": [],
   "source": [
    "random1=randomstate(seed=5)\n",
    "size=int(10.e6)\n",
    "out=random1.uniform(size=size)\n",
    "fig1=plt.figure(1)\n",
    "ax1=fig1.add_subplot(111)\n",
    "result=ax1.hist(out)"
   ]
  },
  {
   "cell_type": "markdown",
   "metadata": {},
   "source": [
    "Now transform the random variable to an exponential distribution"
   ]
  },
  {
   "cell_type": "code",
   "execution_count": null,
   "metadata": {
    "collapsed": false
   },
   "outputs": [],
   "source": [
    "beta= 1./3.\n",
    "xval=-1./beta*np.log( 1. - out)\n",
    "fig2=plt.figure(2)\n",
    "ax2=fig2.add_subplot(111)\n",
    "pdf,bins,patches=ax2.hist(xval,bins=np.arange(0,30.,0.01),normed=True)\n",
    "ax2.set_xlim(0,10)\n",
    "#\n",
    "# add a red line to show agreement with Bohren 6.52, page 301\n",
    "#\n",
    "xval_an=np.linspace(0.,10.,300.)\n",
    "an_fun=beta*np.exp(-beta*xval_an)\n",
    "line=ax2.plot(xval_an,an_fun,'r',lw=5)"
   ]
  },
  {
   "cell_type": "markdown",
   "metadata": {},
   "source": [
    "Here is the numerical version of the mean integral:\n",
    "\n",
    "$\\bar{x} = \\int_0^\\infty x p(x) dx$\n",
    "\n",
    "It should equal $1/\\beta$ = 3"
   ]
  },
  {
   "cell_type": "code",
   "execution_count": null,
   "metadata": {
    "collapsed": false
   },
   "outputs": [],
   "source": [
    "test_norm=np.sum(pdf*bins[1:]*np.diff(bins))\n",
    "print(test_norm)"
   ]
  },
  {
   "cell_type": "code",
   "execution_count": null,
   "metadata": {
    "collapsed": false
   },
   "outputs": [],
   "source": []
  }
 ],
 "metadata": {
  "kernelspec": {
   "display_name": "Python 2",
   "language": "python",
   "name": "python2"
  },
  "language_info": {
   "codemirror_mode": {
    "name": "ipython",
    "version": 2
   },
   "file_extension": ".py",
   "mimetype": "text/x-python",
   "name": "python",
   "nbconvert_exporter": "python",
   "pygments_lexer": "ipython2",
   "version": "2.7.9"
  }
 },
 "nbformat": 4,
 "nbformat_minor": 0
}