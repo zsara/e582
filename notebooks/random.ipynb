{
 "cells": [
  {
   "cell_type": "markdown",
   "metadata": {},
   "source": [
    "## Pine book on [Using IPython notebooks](http://clouds.eos.ubc.ca/~phil/djpine_python/Book/_build/html/apdx2/apdx2_ipynb.html)"
   ]
  },
  {
   "cell_type": "markdown",
   "metadata": {},
   "source": [
    "## Pine book on [python modules](http://clouds.eos.ubc.ca/~phil/djpine_python/Book/_build/html/chap2/chap2_basics.html#python-modules)"
   ]
  },
  {
   "cell_type": "code",
   "execution_count": null,
   "metadata": {
    "collapsed": true
   },
   "outputs": [],
   "source": [
    "import matplotlib.pyplot as plt\n",
    "import numpy\n",
    "from numpy.random.mtrand import RandomState as randomstate"
   ]
  },
  {
   "cell_type": "markdown",
   "metadata": {},
   "source": [
    "Uncomment the line below to see help on random module"
   ]
  },
  {
   "cell_type": "code",
   "execution_count": null,
   "metadata": {
    "collapsed": false
   },
   "outputs": [],
   "source": [
    "#help(numpy.random)"
   ]
  },
  {
   "cell_type": "markdown",
   "metadata": {},
   "source": [
    "## Pine book on [python functions](http://clouds.eos.ubc.ca/~phil/djpine_python/Book/_build/html/chap2/chap2_basics.html#python-functions-a-first-look)"
   ]
  },
  {
   "cell_type": "code",
   "execution_count": null,
   "metadata": {
    "collapsed": false
   },
   "outputs": [],
   "source": [
    "def makenums(seed,the_size):\n",
    "    random=randomstate(seed=seed)\n",
    "    return random.uniform(size=the_size)"
   ]
  },
  {
   "cell_type": "code",
   "execution_count": null,
   "metadata": {
    "collapsed": false
   },
   "outputs": [],
   "source": [
    "the_seeds=[10001,20002,30003,40004]\n",
    "the_size=5000\n",
    "the_series=[makenums(a_seed,the_size) for a_seed in the_seeds]\n",
    "the_times=numpy.arange(0,int(the_size))"
   ]
  },
  {
   "cell_type": "code",
   "execution_count": null,
   "metadata": {
    "collapsed": false
   },
   "outputs": [],
   "source": [
    "the_series"
   ]
  },
  {
   "cell_type": "markdown",
   "metadata": {},
   "source": [
    "## IPython command to make plots inline instead of plotting into separate windows"
   ]
  },
  {
   "cell_type": "code",
   "execution_count": null,
   "metadata": {
    "collapsed": false
   },
   "outputs": [],
   "source": [
    "%matplotlib inline"
   ]
  },
  {
   "cell_type": "markdown",
   "metadata": {},
   "source": [
    "## Pine book on [plotting](http://clouds.eos.ubc.ca/~phil/djpine_python/Book/_build/html/chap5/chap5_plot.html#more-advanced-graphical-output)"
   ]
  },
  {
   "cell_type": "markdown",
   "metadata": {},
   "source": [
    "### Plot a figure with four boxes"
   ]
  },
  {
   "cell_type": "code",
   "execution_count": null,
   "metadata": {
    "collapsed": false
   },
   "outputs": [],
   "source": [
    "fig=plt.figure(figsize=[9,9])\n",
    "for count,a_series in enumerate(the_series):\n",
    "    print(len(a_series),len(the_times))\n",
    "    ax=fig.add_subplot(len(the_series),1,count+1)\n",
    "    ax.plot(the_times,a_series)"
   ]
  },
  {
   "cell_type": "markdown",
   "metadata": {},
   "source": [
    "### Histogram of one of the series"
   ]
  },
  {
   "cell_type": "code",
   "execution_count": null,
   "metadata": {
    "collapsed": false
   },
   "outputs": [],
   "source": [
    "fig=plt.figure(figsize=[7,7])\n",
    "ax=fig.add_subplot(1,1,1)\n",
    "ax.hist(the_series[0])"
   ]
  },
  {
   "cell_type": "code",
   "execution_count": null,
   "metadata": {
    "collapsed": false
   },
   "outputs": [],
   "source": []
  }
 ],
 "metadata": {
  "kernelspec": {
   "display_name": "Python 2",
   "language": "python",
   "name": "python2"
  },
  "language_info": {
   "codemirror_mode": {
    "name": "ipython",
    "version": 2
   },
   "file_extension": ".py",
   "mimetype": "text/x-python",
   "name": "python",
   "nbconvert_exporter": "python",
   "pygments_lexer": "ipython2",
   "version": "2.7.9"
  }
 },
 "nbformat": 4,
 "nbformat_minor": 0
}