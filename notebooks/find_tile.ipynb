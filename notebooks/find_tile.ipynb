{
 "cells": [
  {
   "cell_type": "markdown",
   "metadata": {},
   "source": [
    "Here is my verison of the perl program at http://oceancolor.gsfc.nasa.gov/cms/L3Bins.html that calculates\n",
    "the relationship between latitudes and logitudes and tiles on the NASA sinusoidal grid.  See\n",
    "http://scipy-lectures.github.io/intro/language/oop.html for a quick intro into how classes work in python"
   ]
  },
  {
   "cell_type": "code",
   "execution_count": null,
   "metadata": {
    "collapsed": false
   },
   "outputs": [],
   "source": [
    "from __future__ import print_function\n",
    "import site\n",
    "site.addsitedir('../utilities')\n",
    "from IPython.display import Image\n",
    "EmbedNorth = Image('http://oceancolor.gsfc.nasa.gov/cmsdocs/product_definitions/L3Bins/L3Bins.north.png',width=500)\n",
    "EmbedSouth = Image('http://oceancolor.gsfc.nasa.gov/cmsdocs/product_definitions/L3Bins/L3Bins.south.png',width=500)"
   ]
  },
  {
   "cell_type": "markdown",
   "metadata": {},
   "source": [
    "The ocean color L3Bins web page shows a demonstration tiling for the case where there are 18 latitude rows.  Note that\n",
    "we are in bin 343"
   ]
  },
  {
   "cell_type": "code",
   "execution_count": null,
   "metadata": {
    "collapsed": false
   },
   "outputs": [],
   "source": [
    "EmbedNorth"
   ]
  },
  {
   "cell_type": "code",
   "execution_count": null,
   "metadata": {
    "collapsed": false
   },
   "outputs": [],
   "source": [
    "EmbedSouth"
   ]
  },
  {
   "cell_type": "markdown",
   "metadata": {},
   "source": [
    "Here is my version of the perl script called [tile_calc.py](https://github.com/phaustin/e582/blob/master/utilities/tile_calc.py)"
   ]
  },
  {
   "cell_type": "markdown",
   "metadata": {},
   "source": [
    "```\n",
    "\"\"\"\n",
    "   python translation of the perl script at\n",
    "   http://oceancolor.gsfc.nasa.gov/cms/L3Bins.html\n",
    "\n",
    "   usage:\n",
    "            import tile_calc\n",
    "            test18=tile_calc.tile_calc(18)\n",
    "            print(test18.latlon2tile(49.2333,-123.25))\n",
    "            should output  tile=343\n",
    "\n",
    "\"\"\"\n",
    "\n",
    "\n",
    "# The following functions are based on the pseudocode found in Appendix A of:\n",
    "# \n",
    "# Campbell, J.W., J.M. Blaisdell, and M. Darzi, 1995:\n",
    "# Level-3 SeaWiFS Data Products: Spatial and Temporal Binning Algorithms.\n",
    "# NASA Tech. Memo. 104566, Vol. 32,\n",
    "# S.B. Hooker, E.R. Firestone, and J.G. Acker, Eds.,\n",
    "# NASA Goddard Space Flight Center, Greenbelt, Maryland\n",
    "\n",
    "from __future__ import division\n",
    "import numpy as np \n",
    "\n",
    "class tile_calc(object):\n",
    "\n",
    "    def __init__(self,numrows):\n",
    "        \"\"\"\n",
    "          initalize the class with the number of latitude rows in the tiling system.\n",
    "          for Modis ocean color numrows=4320 for standard 4.64 km resolution\n",
    "\n",
    "          initialize lattile (vector of length numrows containing center latitude of each row)\n",
    "                     numtile (vector of length numrows containing number of tiles in each row)\n",
    "                     basetile (vector of length numrows containing tile number at the starting point of each row\n",
    "        \"\"\"\n",
    "        self.numrows=numrows\n",
    "        basetile=[1]\n",
    "        numtile=[]\n",
    "        lattile=[]\n",
    "        for row in range(numrows):\n",
    "            lattile.append(((row + 0.5)*180.0/self.numrows) - 90.0)\n",
    "            numtile.append(int(2*self.numrows*np.cos(lattile[row]*np.pi/180.0) + 0.5))\n",
    "            if row > 0:\n",
    "                basetile.append(basetile[row-1] + numtile[row-1])\n",
    "        self.basetile=np.array(basetile)\n",
    "        self.numtile=np.array(numtile)\n",
    "        self.lattile=np.array(lattile)\n",
    "        self.tottiles = basetile[numrows - 1] + numtile[numrows - 1] - 1\n",
    "\n",
    "    def lat2row(self,lat):\n",
    "        row=int((90. + lat)*self.numrows/180.)\n",
    "        if row > self.numrows:\n",
    "            row = self.numrows - 1\n",
    "        return row\n",
    "\n",
    "    def rowlon2tile(self,row,lon):\n",
    "        lon = self.constrain_lon(lon)\n",
    "        col = int((lon + 180.0)*self.numtile[row]/360.0)\n",
    "        if col >= numtile[row]:\n",
    "            col = numtile[row] - 1\n",
    "        return self.basetile[row] + col\n",
    "\n",
    "    def latlon2tile(self,lat,lon):\n",
    "        lat = self.constrain_lat(lat)\n",
    "        lon = self.constrain_lon(lon)\n",
    "        row = self.lat2row(lat)\n",
    "        col = int((lon + 180.0)*self.numtile[row]/360.0)\n",
    "        if col >= self.numtile[row]:\n",
    "            col = self.numtile[row] - 1\n",
    "\n",
    "        return self.basetile[row] + col\n",
    "\n",
    "    def tile2latlon(self,tile):\n",
    "        row = self.numrows - 1\n",
    "        if tile < 1:\n",
    "            tile = 1\n",
    "        while tile < self.basetile[row]:\n",
    "            row-=1\n",
    "        clat = self.lattile[row]\n",
    "        clon = 360.0*(tile - self.basetile[row] + 0.5)/self.numtile[row] - 180.0\n",
    "        return clat,clon\n",
    "\n",
    "    def tile2bounds(self,tile):\n",
    "        row=self.numrows -1\n",
    "        if tile < 1:\n",
    "          tile=1\n",
    "        while tile < self.basetile[row]:\n",
    "            row-=1\n",
    "        north = self.lattile[row] + (90.0/self.numrows)\n",
    "        south = self.lattile[row] - (90.0/self.numrows)\n",
    "        lon = 360.0*(tile - self.basetile[row] + 0.5)/self.numtile[row] - 180.0\n",
    "        west = lon - 180.0/self.numtile[row]\n",
    "        east = lon + 180.0/self.numtile[row]\n",
    "        return north,south,west,east\n",
    "\n",
    "    def constrain_lat(self,lat):\n",
    "        if lat > 90.:\n",
    "            lat = 90\n",
    "        if lat < -90.:\n",
    "            lat = -90\n",
    "        return lat\n",
    "\n",
    "    def constrain_lon(self,lon):\n",
    "        if lon < -180:\n",
    "          lon += 360\n",
    "        if lon > 180:\n",
    "          lon -= 360\n",
    "        return lon\n",
    "\n",
    "if __name__ == \"__main__\":\n",
    "    \n",
    "    test18=tile_calc(18)\n",
    "    print(test18.tile2bounds(367))\n",
    "    print(test18.tile2bounds(411))\n",
    "    print(test18.tile2bounds(412))\n",
    "    print(test18.tile2latlon(367))\n",
    "    print(test18.latlon2tile(49.2333,-123.25))\n",
    "```"
   ]
  },
  {
   "cell_type": "code",
   "execution_count": null,
   "metadata": {
    "collapsed": false
   },
   "outputs": [],
   "source": [
    "import tile_calc\n",
    "dir(tile_calc)"
   ]
  },
  {
   "cell_type": "code",
   "execution_count": null,
   "metadata": {
    "collapsed": false
   },
   "outputs": [],
   "source": [
    "test18=tile_calc.tile_calc(18)\n",
    "print('lat lon bounds for tile 367: ',test18.tile2bounds(367))\n",
    "print('bounds for 411: ',test18.tile2bounds(411))\n",
    "print('bounds for 412: ',test18.tile2bounds(412))\n",
    "print('central lat lon for 367: ',test18.tile2latlon(367))\n",
    "print('tile for UBC: ',test18.latlon2tile(49.2333,-123.25))"
   ]
  },
  {
   "cell_type": "code",
   "execution_count": null,
   "metadata": {
    "collapsed": false
   },
   "outputs": [],
   "source": []
  }
 ],
 "metadata": {
  "kernelspec": {
   "display_name": "Python 2",
   "language": "python",
   "name": "python2"
  },
  "language_info": {
   "codemirror_mode": {
    "name": "ipython",
    "version": 2
   },
   "file_extension": ".py",
   "mimetype": "text/x-python",
   "name": "python",
   "nbconvert_exporter": "python",
   "pygments_lexer": "ipython2",
   "version": "2.7.9"
  }
 },
 "nbformat": 4,
 "nbformat_minor": 0
}