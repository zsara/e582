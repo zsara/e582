{
 "metadata": {
  "name": "",
  "signature": "sha256:fc46811d93965f440b1083271d5fac4a5281cc03eb28389220966c9eb498b67f"
 },
 "nbformat": 3,
 "nbformat_minor": 0,
 "worksheets": [
  {
   "cells": [
    {
     "cell_type": "markdown",
     "metadata": {},
     "source": [
      "##Satellite exercise for Wed. Jan. 14 cont."
     ]
    },
    {
     "cell_type": "code",
     "collapsed": false,
     "input": [
      "from __future__ import print_function\n",
      "import glob  #this module gets file names using wildcards\n",
      "#\n",
      "# the h5dump.py file is one folder up in the utilities folder\n",
      "# use site.addsitedir to add this folder to the list of folders\n",
      "# python searches for imports\n",
      "#\n",
      "import site\n",
      "site.addsitedir('../utilities')\n",
      "from h5dump import dumph5\n",
      "import h5py\n",
      "import matplotlib.pyplot as plt\n",
      "import numpy as np"
     ],
     "language": "python",
     "metadata": {},
     "outputs": [],
     "prompt_number": 1
    },
    {
     "cell_type": "code",
     "collapsed": false,
     "input": [
      "%matplotlib inline"
     ],
     "language": "python",
     "metadata": {},
     "outputs": [],
     "prompt_number": 2
    },
    {
     "cell_type": "markdown",
     "metadata": {},
     "source": [
      "1.  Look at the product definitions for level 2 and level 3 data at http://oceancolor.gsfc.nasa.gov/cms/products\n",
      "2.  Find a month of level 3 chlorophyll concentration data for the Modis instrument from http://oceancolor.gsfc.nasa.gov/cgi/l3\n",
      "3.  Download the bz2 zipped files for the Standard Mapped Image and binned data to a folder called dataset\n",
      "4.  unzip the two files with bunzip2\n",
      "5.  Convert hdf4 to hdf5 with http://www.hdfgroup.org/h4toh5/download.html or http://hdfeos.org/software/h4toh5/bin/mac/"
     ]
    },
    {
     "cell_type": "markdown",
     "metadata": {},
     "source": [
      "Take a look at the Level3 mapped dataset specification:  http://oceancolor.gsfc.nasa.gov/DOCS/Ocean_Level-3_SMI_Products.pdf\n",
      "Compare that specification with the data dump given by dumph5:  (a reference page on the data type notation for h5py: https://www.safaribooksonline.com/library/view/python-and-hdf5/9781491944981/ch07.html and for numpy:http://docs.scipy.org/doc/numpy/reference/arrays.dtypes.html)."
     ]
    },
    {
     "cell_type": "markdown",
     "metadata": {},
     "source": [
      "##Binned data"
     ]
    },
    {
     "cell_type": "markdown",
     "metadata": {},
     "source": [
      "1. Take a look at http://oceancolor.gsfc.nasa.gov/cms/L3Bins.html which describes the binning scheme\n",
      "2. Here is a description of the hdf file layout: http://oceancolor.gsfc.nasa.gov/DOCS/Ocean_Level-3_Binned_Data_Products.pdf"
     ]
    },
    {
     "cell_type": "code",
     "collapsed": false,
     "input": [
      "binned_file=glob.glob('dataset/A20101822010212_L3b_MO_CHL.main.h5')[0]\n",
      "dumph5(binned_file)"
     ],
     "language": "python",
     "metadata": {},
     "outputs": [
      {
       "output_type": "stream",
       "stream": "stdout",
       "text": [
        "item name:  Level-3 Binned Data <HDF5 group \"/Level-3 Binned Data\" (8 members)>\n",
        "    HDF4_OBJECT_TYPE: Vgroup\n",
        "    HDF4_OBJECT_NAME: Level-3 Binned Data\n",
        "    HDF4_REF_NUM: 2\n",
        "item name: "
       ]
      },
      {
       "output_type": "stream",
       "stream": "stdout",
       "text": [
        " Level-3 Binned Data/BinIndex <HDF5 dataset \"BinIndex\": shape (4320,), type \"|V36\">\n",
        "    TITLE: BinIndex\n",
        "    CLASS: TABLE\n",
        "    VERSION: 1.0\n",
        "    FIELD_0_NAME: row_num\n",
        "    FIELD_1_NAME: vsize\n",
        "    FIELD_2_NAME: hsize\n",
        "    FIELD_3_NAME: start_num\n",
        "    FIELD_4_NAME: begin\n",
        "    FIELD_5_NAME: extent\n",
        "    FIELD_6_NAME: max\n",
        "    HDF4_OBJECT_TYPE: Vdata\n",
        "    HDF4_OBJECT_NAME: BinIndex\n",
        "    HDF4_REF_NUM: 13656\n",
        "item name:  Level-3 Binned Data/BinIndex_t <HDF5 named type \"BinIndex_t\" (dtype |V36)>\n",
        "item name:  Level-3 Binned Data/BinList <HDF5 dataset \"BinList\": shape (11694745,), type \"|V19\">\n",
        "    TITLE: BinList\n",
        "    CLASS: TABLE\n",
        "    VERSION: 1.0\n",
        "    FIELD_0_NAME: bin_num\n",
        "    FIELD_1_NAME: nobs\n",
        "    FIELD_2_NAME: nscenes\n",
        "    FIELD_3_NAME: time_rec\n",
        "    FIELD_4_NAME: weights\n",
        "    FIELD_5_NAME: sel_cat\n",
        "    FIELD_6_NAME: flags_set\n",
        "    HDF4_OBJECT_TYPE: Vdata\n",
        "    HDF4_OBJECT_NAME: BinList\n",
        "    HDF4_REF_NUM: 4\n",
        "item name:  Level-3 Binned Data/BinList_t <HDF5 named type \"BinList_t\" (dtype |V19)>\n",
        "item name:  Level-3 Binned Data/SEAGrid <HDF5 dataset \"SEAGrid\": shape (1,), type \"|V44\">\n",
        "    TITLE: SEAGrid\n",
        "    CLASS: TABLE\n",
        "    VERSION: 1.0\n",
        "    FIELD_0_NAME: registration\n",
        "    FIELD_1_NAME: straddle\n",
        "    FIELD_2_NAME: bins\n",
        "    FIELD_3_NAME: radius\n",
        "    FIELD_4_NAME: max_north\n",
        "    FIELD_5_NAME: max_south\n",
        "    FIELD_6_NAME: seam_lon\n",
        "    HDF4_OBJECT_TYPE: Vdata\n",
        "    HDF4_OBJECT_NAME: SEAGrid\n",
        "    HDF4_REF_NUM: 3\n",
        "item name:  Level-3 Binned Data/SEAGrid_t <HDF5 named type \"SEAGrid_t\" (dtype |V44)>\n",
        "item name:  Level-3 Binned Data/chlor_a <HDF5 dataset \"chlor_a\": shape (11694745,), type \"|V8\">\n",
        "    TITLE: chlor_a\n",
        "    CLASS: TABLE\n"
       ]
      },
      {
       "output_type": "stream",
       "stream": "stdout",
       "text": [
        "    FIELD_0_NAME: chlor_a_sum\n",
        "    FIELD_1_NAME: chlor_a_sum_sq\n",
        "    HDF4_OBJECT_TYPE: Vdata\n",
        "    HDF4_OBJECT_NAME: chlor_a\n",
        "    HDF4_REF_NUM: 5\n",
        "    VERSION: 1.0\n",
        "item name:  Level-3 Binned Data/chlor_a_t <HDF5 named type \"chlor_a_t\" (dtype |V8)>\n",
        "-------------------\n",
        "attributes for the root file\n",
        "-------------------\n",
        "attribute name:  Product Name_GLOSDS --- value:  A20101822010212.L3b_MO_CHL.main\n",
        "attribute name:  Title_GLOSDS --- value:  HMODISA Level-3 Binned Data\n",
        "attribute name:  Sensor Name_GLOSDS --- value:  HMODISA\n",
        "attribute name:  Mission_GLOSDS --- value:  \n",
        "attribute name:  Mission Characteristics_GLOSDS --- value:  \n",
        "attribute name:  Sensor_GLOSDS --- value:  \n",
        "attribute name:  Sensor Characteristics_GLOSDS --- value:  \n",
        "attribute name:  Product Type_GLOSDS --- value:  other\n",
        "attribute name:  Processing Version_GLOSDS --- value:  2012.0\n",
        "attribute name:  Software Name_GLOSDS --- value:  L3BIN\n",
        "attribute name:  Software Version_GLOSDS --- value:  3.41\n",
        "attribute name:  Orbit_GLOSDS --- value:  43619\n",
        "attribute name:  Start Orbit_GLOSDS --- value:  43393\n",
        "attribute name:  End Orbit_GLOSDS --- value:  43846\n",
        "attribute name:  Processing Time_GLOSDS --- value:  2012131024635000\n",
        "attribute name:  Processing Control_GLOSDS --- value:  l3bin par=A20101822010212.L3b_MO_CHL.param\n",
        "attribute name:  Input Parameters_GLOSDS --- value:  INFILE = /data1/sdpsoper/vdc/vpu4/workbuf/l3inlist.dat|OFILE = A20101822010212.L3b_MO_CHL.main|PFILE = A20101822010212.L3b_MO_CHL.main|SYEAR = 2010|EYEAR = 2010|SDAY = 182|EDAY = 212|SORBIT = -1|EORBIT = -1|OUT_PARM = DEFAULT|TFLAG = O|PROCESSING VERSION = 2012.0|REDUCE_FAC = 1|MERGED = |LONEAST = 180.000000|LONWEST = -180.000000|LATNORTH = 90.000000|LATSOUTH = -90.000000|VERBOSE = 0|UNIT_WGT = 0|MEDIAN = 0|\n",
        "attribute name:  Input Files_GLOSDS --- value:  /data1/sdpsoper/vdc/vpu4/workbuf/A20101852010192.L3b_8D_CHL.main,/data1/sdpsoper/vdc/vpu4/workbuf/A20101932010200.L3b_8D_CHL.main,/data1/sdpsoper/vdc/vpu4/workbuf/A20102012010208.L3b_8D_CHL.main,/data1/sdpsoper/vdc/vpu4/workbuf/A2010182.L3b_DAY_CHL.main,/data1/sdpsoper/vdc/vpu4/workbuf/A2010183.L3b_DAY_CHL.main,/data1/sdpsoper/vdc/vpu4/workbuf/A2010184.L3b_DAY_CHL.main,/data1/sdpsoper/vdc/vpu4/workbuf/A2010209.L3b_DAY_CHL.main,/data1/sdpsoper/vdc/vpu4/workbuf/A2010210.L3b_DAY_CHL.main,/data1/sdpsoper/vdc/vpu4/workbuf/A2010211.L3b_DAY_CHL.main,/data1/sdpsoper/vdc/vpu4/workbuf/A2010212.L3b_DAY_CHL.main\n",
        "attribute name:  L2 Flag Names_GLOSDS --- value:  ATMFAIL,LAND,HILT,HISATZEN,STRAYLIGHT,CLDICE,COCCOLITH,LOWLW,CHLWARN,CHLFAIL,NAVWARN,MAXAERITER,ATMWARN,HISOLZEN,NAVFAIL,FILTER,HIGLINT\n",
        "attribute name:  Period Start Year_GLOSDS --- value:  2010\n",
        "attribute name:  Period Start Day_GLOSDS --- value:  182\n",
        "attribute name:  Period End Year_GLOSDS --- value:  2010\n",
        "attribute name:  Period End Day_GLOSDS --- value:  212\n",
        "attribute name:  Start Time_GLOSDS --- value:  2010182000007965\n",
        "attribute name:  End Time_GLOSDS --- value:  2010183023007261\n",
        "attribute name:  Start Year_GLOSDS --- value:  2010\n",
        "attribute name:  Start Day_GLOSDS --- value:  182\n",
        "attribute name:  Start Millisec_GLOSDS --- value:  7965\n",
        "attribute name:  End Year_GLOSDS --- value:  2010\n",
        "attribute name:  End Day_GLOSDS --- value:  213\n",
        "attribute name:  End Millisec_GLOSDS --- value:  9606631\n",
        "attribute name:  Latitude Units_GLOSDS --- value:  degrees North\n",
        "attribute name:  Longitude Units_GLOSDS --- value:  degrees East\n",
        "attribute name:  Northernmost Latitude_GLOSDS --- value:  83.0625\n",
        "attribute name:  Southernmost Latitude_GLOSDS --- value:  -49.6458\n",
        "attribute name:  Easternmost Longitude_GLOSDS --- value:  179.979\n",
        "attribute name:  Westernmost Longitude_GLOSDS --- value:  -179.979\n",
        "attribute name:  Data Bins_GLOSDS --- value:  11694745\n",
        "attribute name:  Percent Data Bins_GLOSDS --- value:  49.2168\n",
        "attribute name:  Units_GLOSDS --- value:  chlor_a:mg m^-3\n",
        "attribute name:  Bin Resolution_GLOSDS --- value:  4 km\n"
       ]
      }
     ],
     "prompt_number": 3
    },
    {
     "cell_type": "markdown",
     "metadata": {},
     "source": [
      "Note that the chlorphyll data is stored as an 8 byte opaque type (V8).  On OSX, anaconda installs an hdf5 program call 'h5ls' which we can use to see more detail about this type.  On Windows, you'll need to install the utility separately\n",
      "http://www.hdfgroup.org/HDF5/release/obtain5.html"
     ]
    },
    {
     "cell_type": "markdown",
     "metadata": {},
     "source": [
      "``` bash\n",
      "phil@rail% h5ls -v -r A20101522010181.L3b_MO_CHL.h5\n",
      "\n",
      "/Level-3\\ Binned\\ Data/chlor_a Dataset {11384896/Inf}\n",
      "    Attribute: CLASS scalar\n",
      "        Type:      5-byte space-padded ASCII string\n",
      "        Data:  \"TABLE\"\n",
      "    Attribute: FIELD_0_NAME scalar\n",
      "        Type:      11-byte space-padded ASCII string\n",
      "        Data:  \"chlor_a_sum\"\n",
      "    Attribute: FIELD_1_NAME scalar\n",
      "        Type:      14-byte space-padded ASCII string\n",
      "        Data:  \"chlor_a_sum_sq\"\n",
      "    Attribute: HDF4_OBJECT_NAME scalar\n",
      "        Type:      7-byte space-padded ASCII string\n",
      "        Data:  \"chlor_a\"\n",
      "    Attribute: HDF4_OBJECT_TYPE scalar\n",
      "        Type:      5-byte space-padded ASCII string\n",
      "        Data:  \"Vdata\"\n",
      "    Attribute: HDF4_REF_NUM scalar\n",
      "        Type:      16-bit big-endian unsigned integer\n",
      "        Data:  5\n",
      "    Attribute: TITLE scalar\n",
      "        Type:      7-byte space-padded ASCII string\n",
      "        Data:  \"chlor_a\"\n",
      "    Attribute: VERSION scalar\n",
      "        Type:      3-byte space-padded ASCII string\n",
      "        Data:  \"1.0\"\n",
      "    Location:  1:216324552\n",
      "    Links:     1\n",
      "    Chunks:    {11384896} 91079168 bytes\n",
      "    Storage:   91079168 logical bytes, 91079168 allocated bytes, 100.00% utilization\n",
      "    Type:      shared-1:216324384 struct {\n",
      "                   \"chlor_a_sum\"      +0    IEEE 32-bit big-endian float\n",
      "                   \"chlor_a_sum_sq\"   +4    IEEE 32-bit big-endian float\n",
      "               } 8 bytes\n",
      "/Level-3\\ Binned\\ Data/chlor_a_t Type\n",
      "    Location:  1:216324384\n",
      "    Links:     2\n",
      "    Type:      shared-1:216324384 struct {\n",
      "                   \"chlor_a_sum\"      +0    IEEE 32-bit big-endian float\n",
      "                   \"chlor_a_sum_sq\"   +4    IEEE 32-bit big-endian float\n",
      "               } 8 bytes\n",
      "```"
     ]
    },
    {
     "cell_type": "markdown",
     "metadata": {},
     "source": [
      "h5py reads this 8 byte vector in as a vector of two 4 byte tuples.  The first is the total chorophyll and the second is the squared sum.  To get the mean and variance for the binned chlorophyll we need to write a function as described in\n",
      "Section 4 of http://oceancolor.gsfc.nasa.gov/DOCS/Ocean_Level-3_Binned_Data_Products.pdf"
     ]
    },
    {
     "cell_type": "markdown",
     "metadata": {},
     "source": [
      "##Exercise"
     ]
    },
    {
     "cell_type": "markdown",
     "metadata": {},
     "source": [
      "Write a function that calculates the mean chloryphyll concentration from level3 monthly binned file by extracting the weights from the binlist array and dividing each chlor_a_sum value by its weight.   Print out the first 50 non-zero chlorophyll concentrations in your file."
     ]
    },
    {
     "cell_type": "raw",
     "metadata": {},
     "source": [
      "Here are the six fields for the BinList dataset -- read bin_num, nobs and weights separate lists\n",
      "```\n",
      "FIELD_0_NAME: bin_num\n",
      "FIELD_1_NAME: nobs\n",
      "FIELD_2_NAME: nscenes\n",
      "FIELD_3_NAME: time_rec\n",
      "FIELD_4_NAME: weights\n",
      "FIELD_5_NAME: sel_cat\n",
      "FIELD_6_NAME: flags_set\n",
      "```"
     ]
    },
    {
     "cell_type": "markdown",
     "metadata": {},
     "source": [
      "##get the mean and variance out for 5000 tiles and store as a structured array"
     ]
    },
    {
     "cell_type": "code",
     "collapsed": false,
     "input": [
      "veclength=5000\n",
      "with  h5py.File(binned_file,'r') as infile:\n",
      "    root_key=infile.keys()[0]\n",
      "    print('root key:',root_key)\n",
      "    print('level 1 keys: ',infile[root_key].keys())\n",
      "    print(infile[root_key]['BinList'])\n",
      "    binlist=infile[root_key]['BinList']\n",
      "    print('blnlist dtype: ',binlist.dtype)\n",
      "    chlor_a=infile[root_key]['chlor_a']\n",
      "    print('chlor_a dtype',chlor_a.dtype)\n",
      "    out = np.empty((veclength,),dtype=[('binnum','>i4'),('chlor_a_mean','>f4'),('chlor_a_var','>f4')])\n",
      "    chlor_a_data=chlor_a['chlor_a_sum'][:veclength]\n",
      "    print('chlor_a data length: ',len(chlor_a_data))\n",
      "    print('chlor_a total length: ',len(chlor_a))\n",
      "    chlor_a_sq_data=chlor_a['chlor_a_sum_sq'][:veclength]\n",
      "    weights_data=binlist['weights'][:veclength]\n",
      "    binnums=binlist['bin_num'][:veclength]\n",
      "    print('here: ',len(binnums))\n",
      "    for i in range(veclength):\n",
      "        meanval=chlor_a_data[i]/weights_data[i]\n",
      "        meansq=chlor_a_sq_data[i]/weights_data[i]\n",
      "        out[i]=(binnums[i],chlor_a_data[i]/weights_data[i],meansq - meanval**2.)"
     ],
     "language": "python",
     "metadata": {},
     "outputs": [
      {
       "output_type": "stream",
       "stream": "stdout",
       "text": [
        "root key: Level-3 Binned Data\n",
        "level 1 keys:  [u'BinIndex', u'BinIndex_t', u'BinList', u'BinList_t', u'SEAGrid', u'SEAGrid_t', u'chlor_a', u'chlor_a_t']\n",
        "<HDF5 dataset \"BinList\": shape (11694745,), type \"|V19\">\n",
        "blnlist dtype:  [('bin_num', '>i4'), ('nobs', '>i2'), ('nscenes', '>i2'), ('time_rec', '>i2'), ('weights', '>f4'), ('sel_cat', 'S1'), ('flags_set', '>i4')]\n",
        "chlor_a dtype [('chlor_a_sum', '>f4'), ('chlor_a_sum_sq', '>f4')]\n",
        "chlor_a data length: "
       ]
      },
      {
       "output_type": "stream",
       "stream": "stdout",
       "text": [
        " 5000\n",
        "chlor_a total length:  11694745\n",
        "here: "
       ]
      },
      {
       "output_type": "stream",
       "stream": "stdout",
       "text": [
        " 5000\n"
       ]
      }
     ],
     "prompt_number": 4
    },
    {
     "cell_type": "markdown",
     "metadata": {},
     "source": [
      "###Save file for future processing"
     ]
    },
    {
     "cell_type": "code",
     "collapsed": false,
     "input": [
      "np.savez('saveit_nc.npz',keeprows=out)"
     ],
     "language": "python",
     "metadata": {},
     "outputs": [],
     "prompt_number": 5
    },
    {
     "cell_type": "code",
     "collapsed": false,
     "input": [
      "print(len(out))"
     ],
     "language": "python",
     "metadata": {},
     "outputs": [
      {
       "output_type": "stream",
       "stream": "stdout",
       "text": [
        "5000\n"
       ]
      }
     ],
     "prompt_number": 6
    },
    {
     "cell_type": "code",
     "collapsed": false,
     "input": [],
     "language": "python",
     "metadata": {},
     "outputs": [],
     "prompt_number": 6
    }
   ],
   "metadata": {}
  }
 ]
}