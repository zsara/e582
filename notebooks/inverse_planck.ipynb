{
 "cells": [
  {
   "cell_type": "markdown",
   "metadata": {},
   "source": [
    "inverse_planck notes\n",
    "Download the notebook file at [inverse_planck.ipynb](http://clouds.eos.ubc.ca/~phil/courses/eosc582/notebooks/inverse_planck.ipynb)"
   ]
  },
  {
   "cell_type": "markdown",
   "metadata": {},
   "source": [
    "Petty equation 6.1:\n",
    "\n",
    "$B_\\lambda =\\frac{2 hc^2}{\\lambda^5}\\frac{1}{ e^{\\frac{hc}{\\lambda kT}}-1}$\n",
    "\n",
    "where\n",
    "\n",
    "$h$=Planck's constant ($6.63 \\times 10^{-34}$ Joule seconds})\n",
    "\n",
    "$c$= Speed of light in a vacuum ($3.00 \\times 10^{8}\\ \\mathrm{meters/second}$)\n",
    "\n",
    "$k_b$ =Boltzman's  constant ($1.38 \\times 10^{-23}\\ \\mathrm{Joules/Kelvin}$)\n",
    "\n",
    "With this Python function that returns $B_\\lambda$ given $\\lambda$ and temperature:"
   ]
  },
  {
   "cell_type": "code",
   "execution_count": null,
   "metadata": {
    "collapsed": false
   },
   "outputs": [],
   "source": [
    "c=2.99792458e+08  #m/s -- speed of light in vacumn\n",
    "h=6.62606876e-34  #J s  -- Planck's constant\n",
    "kb=1.3806503e-23  # J/K  -- Boltzman's constant\n",
    "c1=2.*h*c**2.\n",
    "c2=h*c/kb\n",
    "\n",
    "def planckwavelen(wavel,Temp):\n",
    "    \"\"\"input wavelength in microns and Temp in K, output\n",
    "    bbr in W/m^2/micron/sr\n",
    "    \"\"\"\n",
    "    wavel=wavel*1.e-6  #convert to meters\n",
    "    Blambda=1.e-6*c1/(wavel**5.*(np.exp(c2/(wavel*Temp)) -1))\n",
    "    return Blambda"
   ]
  },
  {
   "cell_type": "markdown",
   "metadata": {},
   "source": [
    "The inverse of the Planck function can be found with simple algebra -- below is planckInvert, which takes (wavel,Blambda) and returns\n",
    "a temperature.  The output is the brightness temperature, i.e. the temperature that a blackbody must have to emit radiance Blambda"
   ]
  },
  {
   "cell_type": "code",
   "execution_count": null,
   "metadata": {
    "collapsed": false
   },
   "outputs": [],
   "source": [
    "def planckInvert(wavel,Blambda):\n",
    "    \"\"\"input wavelength in microns and Blambda in W/m^2/micron/sr, output\n",
    "    output brightness temperature in K\n",
    "    \"\"\"\n",
    "    Blambda=Blambda*1.e6  #convert to W/m^2/m/sr\n",
    "    wavel=wavel*1.e-6  #convert wavelength to m\n",
    "    Tbright=c2/(wavel*log(c1/(wavel**5.*Blambda) - 1.))\n",
    "    return Tbright\n",
    "     \n"
   ]
  },
  {
   "cell_type": "markdown",
   "metadata": {},
   "source": [
    "show that planckInvert is correct by doing a \"round trip\" test.  That is, in the cell below,\n",
    "find Blambda=planckInvert(wavel,Temp) for Temp=300 K and wavel=10 microns.  Then print\n",
    "planckInvert(wavel,Blambda) and show that it gives 300 K."
   ]
  },
  {
   "cell_type": "code",
   "execution_count": null,
   "metadata": {
    "collapsed": false
   },
   "outputs": [],
   "source": [
    "the_rad=planckwavelen(10.,300.)\n",
    "Tbright=planckInvert(10.,the_rad)\n",
    "print Tbright"
   ]
  }
 ],
 "metadata": {
  "kernelspec": {
   "display_name": "Python 3",
   "language": "python",
   "name": "python3"
  },
  "language_info": {
   "codemirror_mode": {
    "name": "ipython",
    "version": 3
   },
   "file_extension": ".py",
   "mimetype": "text/x-python",
   "name": "python",
   "nbconvert_exporter": "python",
   "pygments_lexer": "ipython3",
   "version": "3.4.3"
  }
 },
 "nbformat": 4,
 "nbformat_minor": 0
}