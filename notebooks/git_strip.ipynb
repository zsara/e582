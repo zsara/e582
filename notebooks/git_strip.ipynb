{
 "metadata": {
  "name": "",
  "signature": "sha256:03828f5e07be071ed3a3eaa51f308a1ab5272eaa466d86b8b28ca8afaa6f0551"
 },
 "nbformat": 3,
 "nbformat_minor": 0,
 "worksheets": [
  {
   "cells": [
    {
     "cell_type": "markdown",
     "metadata": {},
     "source": [
      "##Using nbstripout.py to remove output cells when doing git commit"
     ]
    },
    {
     "cell_type": "markdown",
     "metadata": {},
     "source": [
      "I've pushed a new commit tagged \"nbstripout\" that adds some new files to the utilities folder:\n",
      "\n",
      "```\n",
      "~/repos/e582_code/utilities phil@rail% ls -ltd * | head\n",
      "-rw-r--r--  1 phil  staff    88 Jan 24 19:58 dotgitconfig\n",
      "-rw-r--r--  1 phil  staff    32 Jan 24 19:57 dotbashrc\n",
      "-rwxr-xr-x  1 phil  staff   878 Jan 24 19:53 nbstripout.py\n",
      "```"
     ]
    },
    {
     "cell_type": "markdown",
     "metadata": {},
     "source": [
      "1. Copy these lines from the dotgitconfig file:\n",
      "\n",
      "    ```\n",
      "    [filter \"nbstrip\"]        \n",
      "          clean = nbstripout.py\n",
      "          smudge =cat\n",
      "          required\n",
      "    ```\n",
      "\n",
      "   into your ~/.gitconfig using a text editor\n",
      "\n",
      "   (in English, this is telling git to run nbstripout.py on the notebook\n",
      "    when it is committed (the \"clean\" filter) and run the unix command\n",
      "    cat (short for concatenate, which just dumps the notebook unchanged in\n",
      "    this case) when it is checked out (\"smudged\")\n",
      "\n",
      "2.  Make a new directory called ~/bin and copy nbstripout.py into\n",
      "    it\n",
      "\n",
      "3.  Make a new file called ~/.bashrc and copy this line from dotbashrc\n",
      "     \n",
      "    ```\n",
      "        export PATH=\"${HOME}/bin:$PATH\"\n",
      "    ```\n",
      "\n",
      "    into the .bashrc file\n",
      "\n",
      "After you're done, start a new bash git-shell (or osx terminal) and try this:\n",
      "\n",
      "```\n",
      "  ~/repos/e582_code/utilities phil@rail% type nbstripout.py\n",
      "  nbstripout.py is /Users/phil/bin/nbstripout.py\n",
      "```\n",
      "\n",
      "Now try changing and committing a notebook with an image, like find_tile.ipynb\n",
      "Go to github and view the raw json file -- the image and other cell output\n",
      "should be stripped out.\n",
      "\n",
      "See http://git-scm.com/book/en/v2/Customizing-Git-Git-Attributes for more detail on\n",
      "git filters"
     ]
    },
    {
     "cell_type": "code",
     "collapsed": false,
     "input": [],
     "language": "python",
     "metadata": {},
     "outputs": []
    }
   ],
   "metadata": {}
  }
 ]
}