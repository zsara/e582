{
 "metadata": {
  "name": "",
  "signature": "sha256:4b89a9d142c5fa0c408d1d8b7687f161453ec39e76468889ad9239f19422758a"
 },
 "nbformat": 3,
 "nbformat_minor": 0,
 "worksheets": [
  {
   "cells": [
    {
     "cell_type": "markdown",
     "metadata": {},
     "source": [
      "##problem 5.5"
     ]
    },
    {
     "cell_type": "markdown",
     "metadata": {},
     "source": [
      " Check in a notebook that does Problem 5.5 -- i.e. makes the plot that Petty suggests to separate five different\n",
      "  surface categories using two combinations of the two reflectances and/or their differences.  Describe a set of rules\n",
      "  that could be used to classify the surface type in an image using your two new variables."
     ]
    },
    {
     "cell_type": "markdown",
     "metadata": {},
     "source": [
      "1. [Lindsay's solution](http://clouds.eos.ubc.ca/~phil/papers/e582/solutions/lindsay_5_5.html)\n",
      "2. [Tereza's solution](http://nbviewer.ipython.org/github/tjarnikova/CLOUDS/blob/working/notebooks/wavelengthtest.ipynb)\n",
      "2. [my solution](http://clouds.eos.ubc.ca/~phil/papers/e582/solutions/pha_5_5.html)\n",
      "3. [Kyle's solution](http://bit.ly/1zNaS9a)"
     ]
    },
    {
     "cell_type": "markdown",
     "metadata": {},
     "source": [
      "## For next Wednesday:  Problems 6.9, 6.28, read chapter 7 through section 7.4 and do Problem 7.4"
     ]
    },
    {
     "cell_type": "markdown",
     "metadata": {},
     "source": [
      "## Working with python scripts"
     ]
    },
    {
     "cell_type": "markdown",
     "metadata": {},
     "source": [
      "Helps to have an editor that understands both python and git.   One option:\n",
      "\n",
      "[sublime text 3](http://www.sublimetext.com/3)  with the [sublimerge](http://www.sublimerge.com/)  and the\n",
      "[anaconda](https://realpython.com/blog/python/setting-up-sublime-text-3-for-full-stack-python-development/) packages"
     ]
    },
    {
     "cell_type": "markdown",
     "metadata": {},
     "source": [
      "Also very useful: the [sourcetree](http://www.sourcetreeapp.com/) repository browser"
     ]
    },
    {
     "cell_type": "markdown",
     "metadata": {},
     "source": [
      "## Example scripts for Wednesday problem"
     ]
    },
    {
     "cell_type": "markdown",
     "metadata": {},
     "source": [
      "##For next Wednesday -- find the mean chlorophyll concentration for every latitude and longitude point and plot on a Lambert-Conformal-Conic projection map"
     ]
    },
    {
     "cell_type": "markdown",
     "metadata": {},
     "source": [
      "Approach: fill a dictionary with the chlorophyll values with the tile numbers as keys, then use the dictionary\n",
      "to look up the chlorophyl for each one of your lat/lon pairs.  Put these values into a 500 x 500 array "
     ]
    },
    {
     "cell_type": "code",
     "collapsed": false,
     "input": [],
     "language": "python",
     "metadata": {},
     "outputs": []
    }
   ],
   "metadata": {}
  }
 ]
}