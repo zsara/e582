{
 "metadata": {
  "name": "",
  "signature": "sha256:b7757528fb982aeecf410cd9a57c9f517a2ba6350d58a453b41b26ea292a01e5"
 },
 "nbformat": 3,
 "nbformat_minor": 0,
 "worksheets": [
  {
   "cells": [
    {
     "cell_type": "code",
     "collapsed": false,
     "input": [
      "import matplotlib.pyplot as plt\n",
      "\n",
      "surface_types=['wetsnow','freshsnow','straw','grass','alfalfa','dark_soil','light_soil','lake']\n",
      "#use refl1=>lambda1=0.7 microns and refl2=>lambda=0.9 microns\n",
      "list_refl=[0.65,0.50],\n",
      "[0.94,0.90],\n",
      "[0.34,0.43],\n",
      "[0.12,0.45],\n",
      "[0.05,0.30],\n",
      "[0.08,0.15],\n",
      "[0.37,0.39],\n",
      "[0.10,0.04],\n",
      "plot_list=[]\n",
      "for count,values in enumerate(list_refl):\n",
      "    avg_refl=(values[0] + values[1])/2. #averaged reflectivity\n",
      "    norm=values[1]/avg_refl #normalized\n",
      "    plot_list.append([surface_types[count],avg_refl,norm])\n",
      "    fig=plt.figure(1)\n",
      "fig.clf()\n",
      "axis1=fig.add_subplot(1,1,1)\n",
      "for item in plot_list:\n",
      "    axis1.plot(item[1],item[2],label=item[0],markersize=8.)\n",
      "    axis1.set_title('averaged reflectivity using lambda 0.7 micron and 0.9 micron')\n",
      "    axis1.set_ylabel('norm refl')\n",
      "    axis1.set_xlabel('average refl')\n",
      "    fig.canvas.draw()\n",
      "    plt.show()"
     ],
     "language": "python",
     "metadata": {},
     "outputs": []
    },
    {
     "cell_type": "code",
     "collapsed": false,
     "input": [],
     "language": "python",
     "metadata": {},
     "outputs": []
    }
   ],
   "metadata": {}
  }
 ]
}