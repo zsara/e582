{
 "cells": [
  {
   "cell_type": "markdown",
   "metadata": {},
   "source": [
    "## Wednesday, Jan 28 exercise:  find a level 2 ocean color granule and plot a 100 x 100 array of pixel lattitudes and longitudes"
   ]
  },
  {
   "cell_type": "markdown",
   "metadata": {},
   "source": [
    "Take a look at them [level 2 product description](http://oceancolor.gsfc.nasa.gov/DOCS/Ocean_Level-2_Data_Products.pdf) at http://oceancolor.gsfc.nasa.gov/cms/techdocs\n",
    "\n",
    "Go to the [level 2 data browser](http://oceancolor.gsfc.nasa.gov/cgi/browse.pl?sen=am)  and download a 5 minute data granule with a file name like A2010161222500.L2_LAC_OC.  Convert this to an h5 file using h4toh5\n"
   ]
  },
  {
   "cell_type": "code",
   "execution_count": null,
   "metadata": {
    "collapsed": false
   },
   "outputs": [],
   "source": [
    "import site\n",
    "site.addsitedir('../utilities')\n",
    "from h5dump import dumph5\n",
    "import glob\n",
    "import h5py\n",
    "from matplotlib import pyplot as plt\n",
    "from reproject import reproj_L1B\n",
    "import numpy as np"
   ]
  },
  {
   "cell_type": "code",
   "execution_count": null,
   "metadata": {
    "collapsed": false
   },
   "outputs": [],
   "source": [
    "filename='A2010130213500.h5'\n",
    "path=glob.glob('../datasets/{}'.format(filename))[0]"
   ]
  },
  {
   "cell_type": "code",
   "execution_count": null,
   "metadata": {
    "collapsed": false
   },
   "outputs": [],
   "source": [
    "dumph5(path)"
   ]
  },
  {
   "cell_type": "code",
   "execution_count": null,
   "metadata": {
    "collapsed": false
   },
   "outputs": [],
   "source": [
    "with h5py.File(path,'r') as f:\n",
    "    lats=f['Navigation Data/latitude'][...]\n",
    "    lons=f['Navigation Data/longitude'][...]\n",
    "    chlor=f['Geophysical Data/chlor_a']\n",
    "    chlor_array=chlor[...]\n",
    "    chlor_bad_value=chlor.attrs['bad_value_scaled']\n",
    "print(chlor_bad_value)"
   ]
  },
  {
   "cell_type": "code",
   "execution_count": null,
   "metadata": {
    "collapsed": false
   },
   "outputs": [],
   "source": [
    "%matplotlib inline"
   ]
  },
  {
   "cell_type": "code",
   "execution_count": null,
   "metadata": {
    "collapsed": false
   },
   "outputs": [],
   "source": [
    "fig,ax=plt.subplots(1,1,figsize=(12,12))\n",
    "out=ax.plot(lons[:100,:100],lats[:100,:100],'b+')"
   ]
  },
  {
   "cell_type": "markdown",
   "metadata": {},
   "source": [
    "## Wednesday Feb. 4"
   ]
  },
  {
   "cell_type": "markdown",
   "metadata": {},
   "source": [
    "Look at [reproject.py](https://github.com/phaustin/e582/blob/master/src/reproject.py) and \n",
    "[level2.py](https://github.com/phaustin/e582/blob/master/src/level2.py) to plot gridded chlorophyll values for\n",
    "a 5 minute Modis granule"
   ]
  },
  {
   "cell_type": "markdown",
   "metadata": {},
   "source": [
    "## Code snippets/idioms for this week"
   ]
  },
  {
   "cell_type": "markdown",
   "metadata": {},
   "source": [
    "1) Automatically reload a module that you are working on so changes are picked up in level2.py\n",
    "```\n",
    "import reproject\n",
    "reload(reproject)\n",
    "from reproject import reproj_L1B\n",
    "```"
   ]
  },
  {
   "cell_type": "markdown",
   "metadata": {},
   "source": [
    "2) numpy slicing example\n",
    "```\n",
    "    #\n",
    "    # what do these lines do?\n",
    "    #\n",
    "    lon_edges=np.arange(lonlim[0], lonlim[1], res)\n",
    "    lon_centers=np.empty_like(lon_edges)\n",
    "    lon_centers[:-1]=(lon_edges[1:] + lon_edges[0:-1])/2.\n",
    "    lon_centers[-1]=lon_centers[-2] + res\n",
    "    lat_edges=np.arange(latlim[0], latlim[1], res)\n",
    "    lat_centers=np.empty_like(lat_edges)\n",
    "    lat_centers[:-1]=(lat_edges[1:] + lat_edges[0:-1])/2.\n",
    "    lat_centers[-1]=lat_centers[-2] + res\n",
    "```"
   ]
  },
  {
   "cell_type": "markdown",
   "metadata": {},
   "source": [
    "3) meshgrid\n",
    "\n",
    "```\n",
    "    lon_array,lat_array=np.meshgrid(lon_centers,lat_centers)\n",
    "```"
   ]
  },
  {
   "cell_type": "markdown",
   "metadata": {},
   "source": [
    "4) searchsorted\n",
    "\n",
    "lon_indices=np.searchsorted(lon_edges, raw_lon.flat, 'right')"
   ]
  },
  {
   "cell_type": "markdown",
   "metadata": {},
   "source": [
    "5) Plotting in stages:  Partially assemble a Basemap projection in a function:\n",
    "\n",
    "```\n",
    "    out=proj.drawcoastlines(linewidth=1.5, linestyle='solid', color='k')\n",
    "    return proj\n",
    "```\n",
    "\n",
    "Then add features and redraw in the main program:\n",
    "\n",
    "```\n",
    "    proj=make_plot(lcc_values)\n",
    "    x,y=proj(small_lons,small_lats)\n",
    "    proj.ax.plot(x,y,'b+')\n",
    "    proj.ax.set_title('pixel centers on lcc projection')\n",
    "    proj.ax.figure.canvas.draw()\n",
    "```"
   ]
  },
  {
   "cell_type": "markdown",
   "metadata": {},
   "source": [
    "### For Wednesday Feb 11"
   ]
  },
  {
   "cell_type": "markdown",
   "metadata": {},
   "source": [
    "Get level2.py working for your swath -- check in your level2.py version and a notebook that shows the three plots as images\n",
    "saved by fig.savefig"
   ]
  },
  {
   "cell_type": "code",
   "execution_count": null,
   "metadata": {
    "collapsed": false
   },
   "outputs": [],
   "source": []
  }
 ],
 "metadata": {
  "kernelspec": {
   "display_name": "Python 2",
   "language": "python",
   "name": "python2"
  },
  "language_info": {
   "codemirror_mode": {
    "name": "ipython",
    "version": 2
   },
   "file_extension": ".py",
   "mimetype": "text/x-python",
   "name": "python",
   "nbconvert_exporter": "python",
   "pygments_lexer": "ipython2",
   "version": "2.7.9"
  }
 },
 "nbformat": 4,
 "nbformat_minor": 0
}