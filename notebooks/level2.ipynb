{
 "metadata": {
  "name": "",
  "signature": "sha256:f89129f84c79c282f7b50a4f331cd6341767989163466d30dbd2ebcf9290d75f"
 },
 "nbformat": 3,
 "nbformat_minor": 0,
 "worksheets": [
  {
   "cells": [
    {
     "cell_type": "markdown",
     "metadata": {},
     "source": [
      "##Wednesday, Jan 28 exercise:  find a level 2 ocean color granule and plot a 100 x 100 array of pixel lattitudes and longitudes"
     ]
    },
    {
     "cell_type": "markdown",
     "metadata": {},
     "source": [
      "Take a look at them [level 2 product description](http://oceancolor.gsfc.nasa.gov/DOCS/Ocean_Level-2_Data_Products.pdf) at http://oceancolor.gsfc.nasa.gov/cms/techdocs\n",
      "\n",
      "Go to the [level 2 data browser](http://oceancolor.gsfc.nasa.gov/cgi/browse.pl?sen=am)  and download a 5 minute data granule with a file name like A2010161222500.L2_LAC_OC.  Convert this to an h5 file using h4toh5\n"
     ]
    },
    {
     "cell_type": "code",
     "collapsed": false,
     "input": [
      "import site\n",
      "site.addsitedir('../utilities')\n",
      "from h5dump import dumph5\n",
      "import glob"
     ],
     "language": "python",
     "metadata": {},
     "outputs": [],
     "prompt_number": ""
    },
    {
     "cell_type": "code",
     "collapsed": false,
     "input": [
      "filename='A2010130213500.h5'\n",
      "path=glob.glob('../dataset/{}'.format(filename))"
     ],
     "language": "python",
     "metadata": {},
     "outputs": [],
     "prompt_number": ""
    },
    {
     "cell_type": "code",
     "collapsed": false,
     "input": [
      "dumph5(path[0])"
     ],
     "language": "python",
     "metadata": {},
     "outputs": [],
     "prompt_number": ""
    },
    {
     "cell_type": "code",
     "collapsed": false,
     "input": [],
     "language": "python",
     "metadata": {},
     "outputs": []
    }
   ],
   "metadata": {}
  }
 ]
}