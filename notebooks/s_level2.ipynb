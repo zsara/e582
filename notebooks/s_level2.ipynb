{
 "metadata": {
  "name": "",
  "signature": "sha256:7cfdd67cf14be02e29f1bbfeab609c0c3777833442a5ae7d71effdd82130602f"
 },
 "nbformat": 3,
 "nbformat_minor": 0,
 "worksheets": [
  {
   "cells": [
    {
     "cell_type": "markdown",
     "metadata": {},
     "source": [
      "##Wednesday, Jan 28 exercise:  find a level 2 ocean color granule and plot a 100 x 100 array of pixel lattitudes and longitudes"
     ]
    },
    {
     "cell_type": "markdown",
     "metadata": {},
     "source": [
      "Take a look at them [level 2 product description](http://oceancolor.gsfc.nasa.gov/DOCS/Ocean_Level-2_Data_Products.pdf) at http://oceancolor.gsfc.nasa.gov/cms/techdocs\n",
      "\n",
      "Go to the [level 2 data browser](http://oceancolor.gsfc.nasa.gov/cgi/browse.pl?sen=am)  and download a 5 minute data granule with a file name like A2010161222500.L2_LAC_OC.  Convert this to an h5 file using h4toh5\n"
     ]
    },
    {
     "cell_type": "code",
     "collapsed": false,
     "input": [
      "import site\n",
      "site.addsitedir('../utilities')\n",
      "from h5dump import dumph5\n",
      "import glob\n",
      "import h5py\n",
      "from matplotlib import pyplot as plt\n",
      "from reproject import reproj_L1B\n",
      "import numpy as np"
     ],
     "language": "python",
     "metadata": {},
     "outputs": [
      {
       "ename": "ImportError",
       "evalue": "No module named reproject",
       "output_type": "pyerr",
       "traceback": [
        "\u001b[1;31m---------------------------------------------------------------------------\u001b[0m\n\u001b[1;31mImportError\u001b[0m                               Traceback (most recent call last)",
        "\u001b[1;32m<ipython-input-2-144dae6cc122>\u001b[0m in \u001b[0;36m<module>\u001b[1;34m()\u001b[0m\n\u001b[0;32m      5\u001b[0m \u001b[1;32mimport\u001b[0m \u001b[0mh5py\u001b[0m\u001b[1;33m\u001b[0m\u001b[0m\n\u001b[0;32m      6\u001b[0m \u001b[1;32mfrom\u001b[0m \u001b[0mmatplotlib\u001b[0m \u001b[1;32mimport\u001b[0m \u001b[0mpyplot\u001b[0m \u001b[1;32mas\u001b[0m \u001b[0mplt\u001b[0m\u001b[1;33m\u001b[0m\u001b[0m\n\u001b[1;32m----> 7\u001b[1;33m \u001b[1;32mfrom\u001b[0m \u001b[0mreproject\u001b[0m \u001b[1;32mimport\u001b[0m \u001b[0mreproj_L1B\u001b[0m\u001b[1;33m\u001b[0m\u001b[0m\n\u001b[0m\u001b[0;32m      8\u001b[0m \u001b[1;32mimport\u001b[0m \u001b[0mnumpy\u001b[0m \u001b[1;32mas\u001b[0m \u001b[0mnp\u001b[0m\u001b[1;33m\u001b[0m\u001b[0m\n",
        "\u001b[1;31mImportError\u001b[0m: No module named reproject"
       ]
      }
     ],
     "prompt_number": 2
    },
    {
     "cell_type": "code",
     "collapsed": false,
     "input": [
      "filename='A2010161222500_L2_LAC_OC.h5'\n",
      "path=glob.glob('../dataset/{}'.format(filename))[0]"
     ],
     "language": "python",
     "metadata": {},
     "outputs": []
    },
    {
     "cell_type": "code",
     "collapsed": false,
     "input": [
      "dumph5(path)"
     ],
     "language": "python",
     "metadata": {},
     "outputs": []
    },
    {
     "cell_type": "code",
     "collapsed": false,
     "input": [
      "with h5py.File(path,'r') as f:\n",
      "    lats=f['Navigation Data/latitude'][...]\n",
      "    lons=f['Navigation Data/longitude'][...]\n",
      "    chlor=f['Geophysical Data/chlor_a']\n",
      "    chlor_array=chlor[...]\n",
      "    chlor_bad_value=chlor.attrs['bad_value_scaled']\n",
      "print(chlor_bad)"
     ],
     "language": "python",
     "metadata": {},
     "outputs": []
    },
    {
     "cell_type": "code",
     "collapsed": false,
     "input": [
      "%matplotlib inline"
     ],
     "language": "python",
     "metadata": {},
     "outputs": []
    },
    {
     "cell_type": "code",
     "collapsed": false,
     "input": [
      "fig,ax=plt.subplots(1,1,figsize=(12,12))\n",
      "out=ax.plot(lons[:100,:100],lats[:100,:100],'b+')"
     ],
     "language": "python",
     "metadata": {},
     "outputs": []
    },
    {
     "cell_type": "markdown",
     "metadata": {},
     "source": [
      "## Wednesday Feb. 4"
     ]
    },
    {
     "cell_type": "markdown",
     "metadata": {},
     "source": [
      "Look at "
     ]
    }
   ],
   "metadata": {}
  }
 ]
}