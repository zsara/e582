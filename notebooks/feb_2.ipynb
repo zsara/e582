{
 "metadata": {
  "name": "",
  "signature": "sha256:0296b63697e65fdb1293ab7f2b6d44fa09b74850e123ec8192eed59ddc6a9b7d"
 },
 "nbformat": 3,
 "nbformat_minor": 0,
 "worksheets": [
  {
   "cells": [
    {
     "cell_type": "markdown",
     "metadata": {},
     "source": [
      "##problem 5.5"
     ]
    },
    {
     "cell_type": "markdown",
     "metadata": {},
     "source": [
      " Check in a notebook that does Problem 5.5 -- i.e. makes the plot that Petty suggests to separate five different\n",
      "  surface categories using two combinations of the two reflectances and/or their differences.  Describe a set of rules\n",
      "  that could be used to classify the surface type in an image using your two new variables."
     ]
    },
    {
     "cell_type": "markdown",
     "metadata": {},
     "source": [
      "1. [Lindsay's solution](http://clouds.eos.ubc.ca/~phil/papers/e582/solutions/lindsay_5_5.html)\n",
      "2. [Tereza's solution](http://nbviewer.ipython.org/github/tjarnikova/CLOUDS/blob/working/notebooks/wavelengthtest.ipynb)\n",
      "2. [my solution](http://clouds.eos.ubc.ca/~phil/papers/e582/solutions/pha_5_5.html)\n",
      "3. [Kyle's solution](http://bit.ly/1zNaS9a)"
     ]
    },
    {
     "cell_type": "markdown",
     "metadata": {},
     "source": [
      "## For next Wednesday:  Problems 6.9, 6.28, read chapter 7 through section 7.4 and do Problem 7.4"
     ]
    },
    {
     "cell_type": "markdown",
     "metadata": {},
     "source": [
      "## Working with python scripts"
     ]
    },
    {
     "cell_type": "markdown",
     "metadata": {},
     "source": [
      "Helps to have an editor that understands both python and git.   One option:\n",
      "\n",
      "[sublime text 3](http://www.sublimetext.com/3)  with the [sublimerge](http://www.sublimerge.com/)  and the\n",
      "[anaconda](https://realpython.com/blog/python/setting-up-sublime-text-3-for-full-stack-python-development/) packages"
     ]
    },
    {
     "cell_type": "markdown",
     "metadata": {},
     "source": [
      "Also very useful: the [sourcetree](http://www.sourcetreeapp.com/) repository browser"
     ]
    },
    {
     "cell_type": "markdown",
     "metadata": {},
     "source": [
      "## Example scripts for Wednesday problem"
     ]
    },
    {
     "cell_type": "markdown",
     "metadata": {},
     "source": [
      "Problem -- my timings show that creating the dictionary with 11,000,000 chlorophyll values takes about 20 seconds (not bad)\n",
      "but dumping it for later reuse using [pickle](https://docs.python.org/2/library/pickle.html) takes forever (I\n",
      "had to kill the command).\n",
      "\n",
      "Solution:  Use [pandas](http://pandas.pydata.org/pandas-docs/dev/10min.html) as \"super dictionary\".\n",
      "\n",
      "Take a look at: [src/calc_chlor.py](https://github.com/phaustin/e582/blob/master/src/calc_chlor.py).\n",
      "\n",
      "Important Idioms:\n",
      "\n",
      "1.  Allow a module to be either run as a script or imported by another script:\n",
      "\n",
      "    ```\n",
      "    if __name__ == \"__main__\":\n",
      "    ```\n",
      "\n",
      "2.  [ContextTimer](https://pypi.python.org/pypi/contexttimer/0.3.1)\n",
      "\n",
      "    ```\n",
      "     with Timer() as t:\n",
      "    ```\n",
      "\n",
      "    Install with:   \n",
      "\n",
      "    ```\n",
      "    pip install contexttimer\n",
      "    ```\n",
      "\n",
      "3.  To install pandas:\n",
      "\n",
      "    ```\n",
      "    conda install pandas\n",
      "    ```\n",
      "\n",
      "4.  Create and save the chlorophyll dataframe:\n",
      "\n",
      "    ```\n",
      "\n",
      "    out = np.empty((veclength,),dtype=[('binnum','>i4'),('chlor_a_mean','>f4')])\n",
      "    for i in range(veclength):\n",
      "        meanval=chlor_a_data[i]/weights_data[i]\n",
      "        out[i]=(binnums[i],chlor_a_data[i]/weights_data[i])\n",
      "\n",
      "    the_df=pd.DataFrame.from_records(out,index='binnum')\n",
      "    print(\"time to create dataframe: \",t.elapsed)\n",
      "    with pd.HDFStore('store.h5','w') as store:\n",
      "        store.put('chlor_a_mean',the_df,format='table')\n",
      "    ```\n",
      "\n",
      "5. Reuse a previously written stored dataframe:\n",
      "\n",
      "    ```\n",
      "    with pd.HDFStore(out_h5,'r') as store:\n",
      "        the_df=store['chlor_a_mean']\n",
      "    ```\n",
      "\n",
      "6. Lookup chlorophyll values using the tile number as index:\n",
      "\n",
      "    ```\n",
      "     chlor_array[row,col]=the_df.loc[tile]\n",
      "    ```\n",
      "\n",
      "7. Add attributes to the HDFStore file using h5py:\n",
      "\n",
      "    ```\n",
      "     with  h5py.File(out_h5,'a') as f:\n",
      "        f.attrs['history']='created by satelliteD.py'\n",
      "        f.attrs['created_on']=time.strftime(\"%c\")\n",
      "        f.attrs['start_date']=start_date\n",
      "        f.attrs['end_date']=end_date\n",
      "        units='micrograms/m^3'\n",
      "        title='mean chlorophyll concentration'\n",
      "        f['/chlor_a_mean'].attrs['units']=units\n",
      "        f['/chlor_a_mean'].attrs['title']=title\n",
      "    ```"
     ]
    },
    {
     "cell_type": "markdown",
     "metadata": {},
     "source": [
      "##Plotting using a normalized colormap\n",
      "\n",
      "Take a look at [src/plot_latlon.py](https://github.com/phaustin/e582/blob/master/src/plot_latlon.py) to see how\n",
      "to limit the colormap range to specified values, giving reserved colors to over, under and missing values:\n",
      "\n",
      "```\n",
      "cmap=cm.YlGn  #see http://wiki.scipy.org/Cookbook/Matplotlib/Show_colormaps\n",
      "cmap.set_over('r')\n",
      "cmap.set_under('b')\n",
      "cmap.set_bad('0.75') #75% grey\n",
      "vmin= -1.5\n",
      "vmax= 1.5\n",
      "#\n",
      "# tell the colormap what the maximum and minimum\n",
      "# values are\n",
      "#\n",
      "the_norm=Normalize(vmin=vmin,vmax=vmax,clip=False)\n",
      "chlor=ma.array(chlor,mask=np.isnan(chlor))\n",
      "```"
     ]
    },
    {
     "cell_type": "markdown",
     "metadata": {},
     "source": [
      "##For next Wednesday -- find the mean chlorophyll concentration for every latitude and longitude point and plot on a Lambert-Conformal-Conic projection map"
     ]
    },
    {
     "cell_type": "markdown",
     "metadata": {},
     "source": [
      "Approach: fill a dictionary with the chlorophyll values with the tile numbers as keys, then use the dictionary\n",
      "to look up the chlorophyl for each one of your lat/lon pairs.  Put these values into a 500 x 500 array "
     ]
    },
    {
     "cell_type": "code",
     "collapsed": false,
     "input": [],
     "language": "python",
     "metadata": {},
     "outputs": []
    }
   ],
   "metadata": {}
  }
 ]
}