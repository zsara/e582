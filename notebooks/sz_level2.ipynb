{
 "metadata": {
  "name": "",
  "signature": "sha256:09801c30b4379d19ae36f3e7b289dd7efc495d2a02f232b193c28b752735b64b"
 },
 "nbformat": 3,
 "nbformat_minor": 0,
 "worksheets": [
  {
   "cells": [
    {
     "cell_type": "markdown",
     "metadata": {},
     "source": [
      "##Wednesday, Jan 28 exercise:  find a level 2 ocean color granule and plot a 100 x 100 array of pixel lattitudes and longitudes"
     ]
    },
    {
     "cell_type": "markdown",
     "metadata": {},
     "source": [
      "Take a look at them [level 2 product description](http://oceancolor.gsfc.nasa.gov/DOCS/Ocean_Level-2_Data_Products.pdf) at http://oceancolor.gsfc.nasa.gov/cms/techdocs\n",
      "\n",
      "Go to the [level 2 data browser](http://oceancolor.gsfc.nasa.gov/cgi/browse.pl?sen=am)  and download a 5 minute data granule with a file name like A2010161222500.L2_LAC_OC.  Convert this to an h5 file using h4toh5\n"
     ]
    },
    {
     "cell_type": "code",
     "collapsed": false,
     "input": [
      "import site\n",
      "site.addsitedir('../utilities')\n",
      "from h5dump import dumph5\n",
      "import glob\n",
      "import h5py\n",
      "from matplotlib import pyplot as plt\n",
      "from reproject import reproj_L1B\n",
      "import numpy as np"
     ],
     "language": "python",
     "metadata": {},
     "outputs": [],
     "prompt_number": ""
    },
    {
     "cell_type": "code",
     "collapsed": false,
     "input": [
      "filename='A2010130213500.h5'\n",
      "path=glob.glob('../dataset/{}'.format(filename))[0]"
     ],
     "language": "python",
     "metadata": {},
     "outputs": [],
     "prompt_number": ""
    },
    {
     "cell_type": "code",
     "collapsed": false,
     "input": [
      "dumph5(path)"
     ],
     "language": "python",
     "metadata": {},
     "outputs": [],
     "prompt_number": ""
    },
    {
     "cell_type": "code",
     "collapsed": false,
     "input": [
      "with h5py.File(path,'r') as f:\n",
      "    lats=f['Navigation Data/latitude'][...]\n",
      "    lons=f['Navigation Data/longitude'][...]\n",
      "    chlor=f['Geophysical Data/chlor_a']\n",
      "    chlor_array=chlor[...]\n",
      "    chlor_bad_value=chlor.attrs['bad_value_scaled']\n",
      "print(chlor_bad)"
     ],
     "language": "python",
     "metadata": {},
     "outputs": [],
     "prompt_number": ""
    },
    {
     "cell_type": "code",
     "collapsed": false,
     "input": [
      "%matplotlib inline"
     ],
     "language": "python",
     "metadata": {},
     "outputs": [],
     "prompt_number": ""
    },
    {
     "cell_type": "code",
     "collapsed": false,
     "input": [
      "fig,ax=plt.subplots(1,1,figsize=(12,12))\n",
      "out=ax.plot(lons[:100,:100],lats[:100,:100],'b+')"
     ],
     "language": "python",
     "metadata": {},
     "outputs": [],
     "prompt_number": ""
    },
    {
     "cell_type": "markdown",
     "metadata": {},
     "source": [
      "## Wednesday Feb. 4"
     ]
    },
    {
     "cell_type": "markdown",
     "metadata": {},
     "source": [
      "Look at "
     ]
    }
   ],
   "metadata": {}
  }
 ]
}