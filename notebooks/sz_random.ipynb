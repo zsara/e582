{
 "metadata": {
  "name": "",
  "signature": "sha256:52dc2cf2e72e6debecbfd258ceff8f813f61cffaa014db0e027303337e9f8318"
 },
 "nbformat": 3,
 "nbformat_minor": 0,
 "worksheets": [
  {
   "cells": [
    {
     "cell_type": "markdown",
     "metadata": {},
     "source": [
      "##Pine book on [Using IPython notebooks](http://clouds.eos.ubc.ca/~phil/djpine_python/Book/_build/html/apdx2/apdx2_ipynb.html)"
     ]
    },
    {
     "cell_type": "markdown",
     "metadata": {},
     "source": [
      "##Pine book on [python modules](http://clouds.eos.ubc.ca/~phil/djpine_python/Book/_build/html/chap2/chap2_basics.html#python-modules)"
     ]
    },
    {
     "cell_type": "code",
     "collapsed": true,
     "input": [
      "import matplotlib.pyplot as plt\n",
      "import numpy\n",
      "from numpy.random.mtrand import RandomState as randomstate"
     ],
     "language": "python",
     "metadata": {},
     "outputs": [],
     "prompt_number": ""
    },
    {
     "cell_type": "markdown",
     "metadata": {},
     "source": [
      "Uncomment the line below to see help on random module"
     ]
    },
    {
     "cell_type": "code",
     "collapsed": false,
     "input": [
      "#help(numpy.random)"
     ],
     "language": "python",
     "metadata": {},
     "outputs": [],
     "prompt_number": ""
    },
    {
     "cell_type": "markdown",
     "metadata": {},
     "source": [
      "##Pine book on [python functions](http://clouds.eos.ubc.ca/~phil/djpine_python/Book/_build/html/chap2/chap2_basics.html#python-functions-a-first-look)"
     ]
    },
    {
     "cell_type": "code",
     "collapsed": false,
     "input": [
      "def makenums(seed,the_size):\n",
      "    random=randomstate(seed=seed)\n",
      "    return random.uniform(size=the_size)"
     ],
     "language": "python",
     "metadata": {},
     "outputs": [],
     "prompt_number": ""
    },
    {
     "cell_type": "code",
     "collapsed": false,
     "input": [
      "the_seeds=[10001,20002,30003,40004]\n",
      "the_size=5000\n",
      "the_series=[makenums(a_seed,the_size) for a_seed in the_seeds]\n",
      "the_times=numpy.arange(0,int(the_size))"
     ],
     "language": "python",
     "metadata": {},
     "outputs": [],
     "prompt_number": ""
    },
    {
     "cell_type": "code",
     "collapsed": false,
     "input": [
      "the_series"
     ],
     "language": "python",
     "metadata": {},
     "outputs": [],
     "prompt_number": ""
    },
    {
     "cell_type": "markdown",
     "metadata": {},
     "source": [
      "##IPython command to make plots inline instead of plotting into separate windows"
     ]
    },
    {
     "cell_type": "code",
     "collapsed": false,
     "input": [
      "%matplotlib inline"
     ],
     "language": "python",
     "metadata": {},
     "outputs": [],
     "prompt_number": ""
    },
    {
     "cell_type": "markdown",
     "metadata": {},
     "source": [
      "##Pine book on [plotting](http://clouds.eos.ubc.ca/~phil/djpine_python/Book/_build/html/chap5/chap5_plot.html#more-advanced-graphical-output)"
     ]
    },
    {
     "cell_type": "markdown",
     "metadata": {},
     "source": [
      "###Plot a figure with four boxes"
     ]
    },
    {
     "cell_type": "code",
     "collapsed": false,
     "input": [
      "fig=plt.figure(figsize=[9,9])\n",
      "for count,a_series in enumerate(the_series):\n",
      "    print(len(a_series),len(the_times))\n",
      "    ax=fig.add_subplot(len(the_series),1,count+1)\n",
      "    ax.plot(the_times,a_series)"
     ],
     "language": "python",
     "metadata": {},
     "outputs": [],
     "prompt_number": ""
    },
    {
     "cell_type": "markdown",
     "metadata": {},
     "source": [
      "###Histogram of one of the series"
     ]
    },
    {
     "cell_type": "code",
     "collapsed": false,
     "input": [
      "fig=plt.figure(figsize=[7,7])\n",
      "ax=fig.add_subplot(1,1,1)\n",
      "ax.hist(the_series[0])"
     ],
     "language": "python",
     "metadata": {},
     "outputs": [],
     "prompt_number": ""
    },
    {
     "cell_type": "code",
     "collapsed": false,
     "input": [],
     "language": "python",
     "metadata": {},
     "outputs": []
    }
   ],
   "metadata": {}
  }
 ]
}