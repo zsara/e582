{
 "cells": [
  {
   "cell_type": "markdown",
   "metadata": {},
   "source": [
    "## Satellite exercise for Wed. Jan. 14 cont."
   ]
  },
  {
   "cell_type": "code",
   "execution_count": null,
   "metadata": {
    "collapsed": false,
    "scrolled": true
   },
   "outputs": [],
   "source": [
    "from __future__ import print_function\n",
    "import glob  #this module gets file names using wildcards\n",
    "#\n",
    "# the h5dump.py file is one folder up in the utilities folder\n",
    "# use site.addsitedir to add this folder to the list of folders\n",
    "# python searches for imports\n",
    "#\n",
    "import site\n",
    "site.addsitedir('../utilities')\n",
    "from h5dump import dumph5\n",
    "import h5dump\n",
    "#import importlib\n",
    "#importlib.reload(h5dump)\n",
    "import h5py\n",
    "import matplotlib.pyplot as plt\n",
    "import numpy as np\n",
    "import tile_calc"
   ]
  },
  {
   "cell_type": "code",
   "execution_count": null,
   "metadata": {
    "collapsed": false
   },
   "outputs": [],
   "source": [
    "%matplotlib inline"
   ]
  },
  {
   "cell_type": "markdown",
   "metadata": {},
   "source": [
    "1.  Look at the product definitions for level 2 and level 3 data at http://oceancolor.gsfc.nasa.gov/cms/products\n",
    "2.  Find a month of level 3 chlorophyll concentration data for the Modis instrument from http://oceancolor.gsfc.nasa.gov/cgi/l3\n",
    "3.  Download the bz2 zipped files for the Standard Mapped Image and binned data to a folder called dataset\n",
    "4.  unzip the two files with bunzip2\n",
    "5.  Convert hdf4 to hdf5 with http://www.hdfgroup.org/h4toh5/download.html or http://hdfeos.org/software/h4toh5/bin/mac/"
   ]
  },
  {
   "cell_type": "markdown",
   "metadata": {},
   "source": [
    "Take a look at the Level3 mapped dataset specification:  http://oceancolor.gsfc.nasa.gov/DOCS/Ocean_Level-3_SMI_Products.pdf\n",
    "Compare that specification with the data dump given by dumph5:  (a reference page on the data type notation for h5py: https://www.safaribooksonline.com/library/view/python-and-hdf5/9781491944981/ch07.html and for numpy:http://docs.scipy.org/doc/numpy/reference/arrays.dtypes.html)."
   ]
  },
  {
   "cell_type": "markdown",
   "metadata": {},
   "source": [
    "## Binned data"
   ]
  },
  {
   "cell_type": "markdown",
   "metadata": {},
   "source": [
    "1. Take a look at http://oceancolor.gsfc.nasa.gov/cms/L3Bins.html which describes the binning scheme\n",
    "2. Here is a description of the hdf file layout: http://oceancolor.gsfc.nasa.gov/DOCS/Ocean_Level-3_Binned_Data_Products.pdf"
   ]
  },
  {
   "cell_type": "code",
   "execution_count": null,
   "metadata": {
    "collapsed": false
   },
   "outputs": [],
   "source": [
    "binned_file=glob.glob('../datasets/A20101522010181.L3b_MO_CHL.h5')[0]\n",
    "dumph5(binned_file)"
   ]
  },
  {
   "cell_type": "markdown",
   "metadata": {},
   "source": [
    "Note that the chlorphyll data is stored as an 8 byte opaque type (V8).  On OSX, anaconda installs an hdf5 program call 'h5ls' which we can use to see more detail about this type.  On Windows, you'll need to install the utility separately\n",
    "http://www.hdfgroup.org/HDF5/release/obtain5.html"
   ]
  },
  {
   "cell_type": "markdown",
   "metadata": {},
   "source": [
    "``` bash\n",
    "phil@rail% h5ls -v -r A20101522010181.L3b_MO_CHL.h5\n",
    "\n",
    "/Level-3\\ Binned\\ Data/chlor_a Dataset {11384896/Inf}\n",
    "    Attribute: CLASS scalar\n",
    "        Type:      5-byte space-padded ASCII string\n",
    "        Data:  \"TABLE\"\n",
    "    Attribute: FIELD_0_NAME scalar\n",
    "        Type:      11-byte space-padded ASCII string\n",
    "        Data:  \"chlor_a_sum\"\n",
    "    Attribute: FIELD_1_NAME scalar\n",
    "        Type:      14-byte space-padded ASCII string\n",
    "        Data:  \"chlor_a_sum_sq\"\n",
    "    Attribute: HDF4_OBJECT_NAME scalar\n",
    "        Type:      7-byte space-padded ASCII string\n",
    "        Data:  \"chlor_a\"\n",
    "    Attribute: HDF4_OBJECT_TYPE scalar\n",
    "        Type:      5-byte space-padded ASCII string\n",
    "        Data:  \"Vdata\"\n",
    "    Attribute: HDF4_REF_NUM scalar\n",
    "        Type:      16-bit big-endian unsigned integer\n",
    "        Data:  5\n",
    "    Attribute: TITLE scalar\n",
    "        Type:      7-byte space-padded ASCII string\n",
    "        Data:  \"chlor_a\"\n",
    "    Attribute: VERSION scalar\n",
    "        Type:      3-byte space-padded ASCII string\n",
    "        Data:  \"1.0\"\n",
    "    Location:  1:216324552\n",
    "    Links:     1\n",
    "    Chunks:    {11384896} 91079168 bytes\n",
    "    Storage:   91079168 logical bytes, 91079168 allocated bytes, 100.00% utilization\n",
    "    Type:      shared-1:216324384 struct {\n",
    "                   \"chlor_a_sum\"      +0    IEEE 32-bit big-endian float\n",
    "                   \"chlor_a_sum_sq\"   +4    IEEE 32-bit big-endian float\n",
    "               } 8 bytes\n",
    "/Level-3\\ Binned\\ Data/chlor_a_t Type\n",
    "    Location:  1:216324384\n",
    "    Links:     2\n",
    "    Type:      shared-1:216324384 struct {\n",
    "                   \"chlor_a_sum\"      +0    IEEE 32-bit big-endian float\n",
    "                   \"chlor_a_sum_sq\"   +4    IEEE 32-bit big-endian float\n",
    "               } 8 bytes\n",
    "```"
   ]
  },
  {
   "cell_type": "markdown",
   "metadata": {},
   "source": [
    "h5py reads this 8 byte vector in as a vector of two 4 byte tuples.  The first is the total chorophyll and the second is the squared sum.  To get the mean and variance for the binned chlorophyll we need to write a function as described in\n",
    "Section 4 of http://oceancolor.gsfc.nasa.gov/DOCS/Ocean_Level-3_Binned_Data_Products.pdf"
   ]
  },
  {
   "cell_type": "markdown",
   "metadata": {},
   "source": [
    "## Exercise"
   ]
  },
  {
   "cell_type": "markdown",
   "metadata": {},
   "source": [
    "Write a function that calculates the mean chloryphyll concentration from level3 monthly binned file by extracting the weights from the binlist array and dividing each chlor_a_sum value by its weight.   Print out the first 50 non-zero chlorophyll concentrations in your file."
   ]
  },
  {
   "cell_type": "raw",
   "metadata": {},
   "source": [
    "Here are the six fields for the BinList dataset -- read bin_num, nobs and weights separate lists\n",
    "```\n",
    "FIELD_0_NAME: bin_num\n",
    "FIELD_1_NAME: nobs\n",
    "FIELD_2_NAME: nscenes\n",
    "FIELD_3_NAME: time_rec\n",
    "FIELD_4_NAME: weights\n",
    "FIELD_5_NAME: sel_cat\n",
    "FIELD_6_NAME: flags_set\n",
    "```"
   ]
  },
  {
   "cell_type": "markdown",
   "metadata": {},
   "source": [
    "## get the mean chlorophyl and store in dictionary indexed by tile number"
   ]
  },
  {
   "cell_type": "code",
   "execution_count": null,
   "metadata": {
    "collapsed": false
   },
   "outputs": [],
   "source": [
    "veclength=None\n",
    "with  h5py.File(binned_file,'r') as infile:\n",
    "    root_key=infile.keys()[0]\n",
    "    binlist=infile[root_key]['BinList']\n",
    "    chlor_a=infile[root_key]['chlor_a']\n",
    "    veclength=binlist.shape[0]\n",
    "    print('length: ',veclength)\n",
    "    out = dict()\n",
    "    chlor_a_data=chlor_a['chlor_a_sum'][:veclength]\n",
    "    chlor_a_sq_data=chlor_a['chlor_a_sum_sq'][:veclength]\n",
    "    weights_data=binlist['weights'][:veclength]\n",
    "    binnums=binlist['bin_num'][:veclength]\n",
    "    for i in range(veclength):\n",
    "        meanval=chlor_a_data[i]/weights_data[i]\n",
    "        meansq=chlor_a_sq_data[i]/weights_data[i]\n",
    "        out[binnums[i]]=chlor_a_data[i]/weights_data[i]"
   ]
  },
  {
   "cell_type": "code",
   "execution_count": null,
   "metadata": {
    "collapsed": false
   },
   "outputs": [],
   "source": [
    "test=out.keys()\n",
    "out[test[8000000]]"
   ]
  },
  {
   "cell_type": "code",
   "execution_count": null,
   "metadata": {
    "collapsed": false
   },
   "outputs": [],
   "source": [
    "len(test)"
   ]
  },
  {
   "cell_type": "markdown",
   "metadata": {},
   "source": [
    "## Problem for Wednesday Jan 28"
   ]
  },
  {
   "cell_type": "markdown",
   "metadata": {},
   "source": [
    "Write a function that creates a list of latitude,longitude tuples that cover a 500 x 500 lat/lon array\n",
    "in a area your are interested in.  Loop over this list of tuples and find the tile that contains\n",
    "each lat/lon pair.   Save these 25,000 items in a structured array with three columns:  latitude, longitude and tile number.\n",
    "Write this out to disk for future reference.\n"
   ]
  },
  {
   "cell_type": "code",
   "execution_count": null,
   "metadata": {
    "collapsed": false
   },
   "outputs": [],
   "source": [
    "with  h5py.File(binned_file,'r') as infile:\n",
    "    root_key=infile.keys()[0]\n",
    "    num_rows=infile[root_key]['BinIndex'].shape[0]\n",
    "print('num_rows: ',num_rows)\n",
    "\n",
    "nlats=500\n",
    "nlons=500\n",
    "lats=np.linspace(40.,50.,nlats)\n",
    "lons=np.linspace(-121,-131.,nlons)\n",
    "tile_find=tile_calc.tile_calc(num_rows)\n",
    "lat_array=np.empty([nlats,nlons])\n",
    "lon_array=np.empty([nlats,nlons])\n",
    "chlor_array=np.empty([nlats,nlons])\n",
    "count=0\n",
    "for row,the_lat in enumerate(lats):\n",
    "    for col,the_lon in enumerate(lons):\n",
    "        lat_array[row,col]=the_lat\n",
    "        lon_array[row,col]=the_lon\n",
    "        \n",
    "        \n",
    "np.savez('lat_lon_tile.npz',keeprows=out)\n",
    "        \n",
    "        \n",
    "    "
   ]
  },
  {
   "cell_type": "code",
   "execution_count": null,
   "metadata": {
    "collapsed": false
   },
   "outputs": [],
   "source": [
    "out"
   ]
  },
  {
   "cell_type": "code",
   "execution_count": null,
   "metadata": {
    "collapsed": false
   },
   "outputs": [],
   "source": [
    "out"
   ]
  },
  {
   "cell_type": "markdown",
   "metadata": {},
   "source": [
    "## For next Wednesday -- find the mean chlorophyll concentration for every latitude and longitude point and plot on a Lambert-Conformal-Conic projection map"
   ]
  },
  {
   "cell_type": "markdown",
   "metadata": {},
   "source": [
    "Approach: fill a dictionary with the chlorophyll values with the tile numbers as keys, then use the dictionary\n",
    "to look up the chlorophyl for each one of your lat/lon pairs.  Put these values into a 500 x 500 array "
   ]
  },
  {
   "cell_type": "code",
   "execution_count": null,
   "metadata": {
    "collapsed": false
   },
   "outputs": [],
   "source": []
  }
 ],
 "metadata": {
  "kernelspec": {
   "display_name": "Python 2",
   "language": "python",
   "name": "python2"
  },
  "language_info": {
   "codemirror_mode": {
    "name": "ipython",
    "version": 2
   },
   "file_extension": ".py",
   "mimetype": "text/x-python",
   "name": "python",
   "nbconvert_exporter": "python",
   "pygments_lexer": "ipython2",
   "version": "2.7.9"
  }
 },
 "nbformat": 4,
 "nbformat_minor": 0
}