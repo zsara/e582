{
 "metadata": {
  "name": "",
  "signature": "sha256:60cb387edcdb34596283454ebafdc9d7e5049919ce4d5436f19b3520f7400b11"
 },
 "nbformat": 3,
 "nbformat_minor": 0,
 "worksheets": [
  {
   "cells": [
    {
     "cell_type": "code",
     "collapsed": false,
     "input": [
      "from IPython.display import Image\n",
      "surface1_fig = Image(filename='figures/surface1.jpg',width=500)\n",
      "surface2_fig = Image(filename='figures/surface2.jpg',width=400)"
     ],
     "language": "python",
     "metadata": {},
     "outputs": [],
     "prompt_number": ""
    },
    {
     "cell_type": "markdown",
     "metadata": {},
     "source": [
      "##Check in a notebook that calculates and histograms $\\theta$ for isotropic scattering as described\n",
      " in the  [Monte Carlo notes](http://clouds.eos.ubc.ca/~phil/papers/e582/e582_montecarlo.pdf) eq. 17c"
     ]
    },
    {
     "cell_type": "markdown",
     "metadata": {},
     "source": [
      "First let's rewrite and plot the probability distribution  [Bohren eq. 6.81 page 309](http://clouds.eos.ubc.ca/~phil/papers/e582/bohren_excerpts1.pdf):\n",
      "\n",
      "$$\\int_0^{2\\pi} \\int_0^{\\pi/2} p(\\theta, \\phi) d\\theta d\\phi =1 $$\n",
      "\n",
      "where\n",
      "\n",
      "$$p(\\theta,\\phi) = \\frac{1}{2\\pi} \\left ( 2 sin(\\theta) cos(\\theta) \\right )$$\n",
      "\n",
      "While the azimuth $\\phi$ is uniformly distributed between $0 \\rightarrow 2\\pi$, the\n",
      "dependence on zenith angle $\\theta$ is more complicated:\n"
     ]
    },
    {
     "cell_type": "code",
     "collapsed": false,
     "input": [
      "%matplotlib inline"
     ],
     "language": "python",
     "metadata": {},
     "outputs": [],
     "prompt_number": ""
    },
    {
     "cell_type": "code",
     "collapsed": false,
     "input": [
      "from matplotlib import pyplot as plt\n",
      "import numpy as np\n",
      "fig,ax=plt.subplots(1,1)\n",
      "theta=np.linspace(0,np.pi/2.,100)\n",
      "theta_deg=theta*90./(np.pi/2.)\n",
      "ax.plot(theta_deg,2.*np.sin(theta)*np.cos(theta))\n",
      "ax.set_xlabel('theta (deg)')\n",
      "ax.set_title('probability distribution for theta for an isotropic reflector')"
     ],
     "language": "python",
     "metadata": {},
     "outputs": [],
     "prompt_number": ""
    },
    {
     "cell_type": "markdown",
     "metadata": {},
     "source": [
      "##Question:  why does $\\theta$ peak at 45 degrees?"
     ]
    },
    {
     "cell_type": "markdown",
     "metadata": {},
     "source": [
      "$2\\sin(\\theta)\\cos(\\theta)$ is a  pdf for photon \"bundles\", which are power in Watts.  We want to ensure that\n",
      "we have isotropic radiance, which means that  $W/m^2/sr$ is independent of direction.  The steradians that a particular bundle\n",
      "is reflected into increases with increasing $\\theta$ proportional to $\\sin(\\theta)$, for the same\n",
      "reason that the distance between longitude lines increases as we move from pole to equator:\n",
      "\n",
      "$$\\omega=\\int_0^{2\\pi} \\int_0^{\\theta} sin(\\theta^\\prime) d\\theta^\\prime d\\phi$$\n",
      "\n",
      "In the figure below, as $\\theta$ increases the solid angle that the power is sent into\n",
      "increases, so to keep power/sr constant, power must increase as $\\sin \\theta$"
     ]
    },
    {
     "cell_type": "code",
     "collapsed": false,
     "input": [
      "surface1_fig"
     ],
     "language": "python",
     "metadata": {},
     "outputs": [],
     "prompt_number": ""
    },
    {
     "cell_type": "markdown",
     "metadata": {},
     "source": [
      "At the same time, the power goes into an area that is the projection from the\n",
      "flat surface onto a plane normal to the direction of the reflection.  This area *decreases* in \n",
      "proportion to $\\cos \\theta$:"
     ]
    },
    {
     "cell_type": "code",
     "collapsed": false,
     "input": [
      "surface2_fig"
     ],
     "language": "python",
     "metadata": {},
     "outputs": [],
     "prompt_number": ""
    },
    {
     "cell_type": "markdown",
     "metadata": {},
     "source": [
      "so to keep power/area constant, power must decrease as $\\cos \\theta$ and the two requirements combine to produce\n",
      "the $(\\sin \\theta \\cos \\theta)$ pdf."
     ]
    },
    {
     "cell_type": "code",
     "collapsed": false,
     "input": [
      "from numpy.random.mtrand import RandomState as randomstate"
     ],
     "language": "python",
     "metadata": {},
     "outputs": [],
     "prompt_number": ""
    },
    {
     "cell_type": "markdown",
     "metadata": {},
     "source": [
      "Start with a uniform distribution"
     ]
    },
    {
     "cell_type": "code",
     "collapsed": false,
     "input": [
      "random1=randomstate(seed=5)\n",
      "size=int(10.e6)\n",
      "out=random1.uniform(size=size)\n",
      "fig1=plt.figure(1)\n",
      "ax1=fig1.add_subplot(111)\n",
      "result=ax1.hist(out)"
     ],
     "language": "python",
     "metadata": {},
     "outputs": [],
     "prompt_number": ""
    },
    {
     "cell_type": "markdown",
     "metadata": {},
     "source": [
      "Now transform the random variable to the distribution \n",
      "to  [Bohren eq. 6.83 page 309](http://clouds.eos.ubc.ca/~phil/papers/e582/bohren_excerpts1.pdf)"
     ]
    },
    {
     "cell_type": "code",
     "collapsed": false,
     "input": [
      "theta=np.arcsin(np.sqrt(out))\n",
      "fig2=plt.figure(2)\n",
      "ax2=fig2.add_subplot(111)\n",
      "pdf,bins,patches=ax2.hist(theta,bins=np.linspace(0,np.pi/2.,300),normed=True)\n",
      "test_norm=np.sum(pdf*bins[1:]*np.diff(bins))\n",
      "ax2.plot(bins,2.*np.sin(bins)*np.cos(bins),'r-',lw=5)\n",
      "print(\"should normalize to 1, problem here?\",test_norm)"
     ],
     "language": "python",
     "metadata": {},
     "outputs": [],
     "prompt_number": ""
    },
    {
     "cell_type": "code",
     "collapsed": false,
     "input": [],
     "language": "python",
     "metadata": {},
     "outputs": [],
     "prompt_number": ""
    }
   ],
   "metadata": {}
  }
 ]
}